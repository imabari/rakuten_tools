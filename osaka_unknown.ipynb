{
  "nbformat": 4,
  "nbformat_minor": 0,
  "metadata": {
    "colab": {
      "name": "osaka_unknown.ipynb",
      "provenance": [],
      "toc_visible": true,
      "collapsed_sections": [],
      "include_colab_link": true
    },
    "kernelspec": {
      "name": "python3",
      "display_name": "Python 3"
    },
    "language_info": {
      "name": "python"
    }
  },
  "cells": [
    {
      "cell_type": "markdown",
      "metadata": {
        "id": "view-in-github",
        "colab_type": "text"
      },
      "source": [
        "<a href=\"https://colab.research.google.com/github/imabari/rakuten_tools/blob/main/osaka_unknown.ipynb\" target=\"_parent\"><img src=\"https://colab.research.google.com/assets/colab-badge.svg\" alt=\"Open In Colab\"/></a>"
      ]
    },
    {
      "cell_type": "markdown",
      "source": [
        "# アップロード"
      ],
      "metadata": {
        "id": "aVJER983tfSA"
      }
    },
    {
      "cell_type": "code",
      "source": [
        "from google.colab import files\n",
        "\n",
        "uploaded = files.upload()\n",
        "\n",
        "for fn in uploaded.keys():\n",
        "    print(\n",
        "        'User uploaded file \"{name}\" with length {length} bytes'.format(\n",
        "            name=fn, length=len(uploaded[fn])\n",
        "        )\n",
        "    )"
      ],
      "metadata": {
        "id": "Dj39ttT4tbzA"
      },
      "execution_count": null,
      "outputs": []
    },
    {
      "cell_type": "markdown",
      "source": [
        "# 設定"
      ],
      "metadata": {
        "id": "-xk7x5KNS5QO"
      }
    },
    {
      "cell_type": "code",
      "source": [
        "# 大阪南部\n",
        "\n",
        "mid = \"11UCAA68tszbyxJL9y_tng0QYcRdtCJ63\"\n",
        "lid = \"\"\n",
        "\n",
        "url = f\"https://www.google.com/maps/d/kml?mid={mid}\" if lid == \"\" else f\"https://www.google.com/maps/d/kml?mid={mid}&lid={lid}\""
      ],
      "metadata": {
        "id": "Mn_ilao3fehe"
      },
      "execution_count": null,
      "outputs": []
    },
    {
      "cell_type": "code",
      "source": [
        "url"
      ],
      "metadata": {
        "id": "lu2Xc45zdHmP"
      },
      "execution_count": null,
      "outputs": []
    },
    {
      "cell_type": "code",
      "source": [
        "# 抽出用enb-LCID\n",
        "\n",
        "enb = [443135]\n",
        "lcid = [7]"
      ],
      "metadata": {
        "id": "DhhxPvQsEL3P"
      },
      "execution_count": null,
      "outputs": []
    },
    {
      "cell_type": "markdown",
      "source": [
        "# プログラム"
      ],
      "metadata": {
        "id": "DxW58O_8tma5"
      }
    },
    {
      "cell_type": "markdown",
      "source": [
        "## 準備"
      ],
      "metadata": {
        "id": "_fm9lEpLes4d"
      }
    },
    {
      "cell_type": "code",
      "source": [
        "import pathlib\n",
        "import zipfile\n",
        "\n",
        "from lxml import etree"
      ],
      "metadata": {
        "id": "ZNbXV7T4f6tf"
      },
      "execution_count": null,
      "outputs": []
    },
    {
      "cell_type": "code",
      "source": [
        "import pandas as pd\n",
        "import requests"
      ],
      "metadata": {
        "id": "FZwtVrBFf9Pm"
      },
      "execution_count": null,
      "outputs": []
    },
    {
      "cell_type": "code",
      "source": [
        "import folium\n",
        "from folium.features import DivIcon"
      ],
      "metadata": {
        "id": "j4WpOhG4tcU4"
      },
      "execution_count": null,
      "outputs": []
    },
    {
      "cell_type": "code",
      "source": [
        "def fetch_file(url, fn):\n",
        "\n",
        "    p = pathlib.Path(fn)\n",
        "\n",
        "    r = requests.get(url)\n",
        "    r.raise_for_status()\n",
        "\n",
        "    with p.open(mode=\"wb\") as fw:\n",
        "        fw.write(r.content)\n",
        "    return p"
      ],
      "metadata": {
        "id": "hBvTFrp6fhVZ"
      },
      "execution_count": null,
      "outputs": []
    },
    {
      "cell_type": "code",
      "source": [
        "colors = [\n",
        "    \"black\",\n",
        "    \"red\",\n",
        "    \"green\",\n",
        "    \"blue\",\n",
        "    \"darkred\",\n",
        "    \"darkgreen\",\n",
        "    \"darkblue\",\n",
        "    \"lightred\",\n",
        "    \"lightgreen\",\n",
        "    \"lightblue\",\n",
        "    \"pink\",\n",
        "    \"orange\",\n",
        "    \"cadetblue\",\n",
        "    \"beige\",\n",
        "    \"gray\",\n",
        "    \"darkpurple\",\n",
        "    \"lightgray\",\n",
        "    \"white\",\n",
        "]"
      ],
      "metadata": {
        "id": "CHb1WrULtcX3"
      },
      "execution_count": null,
      "outputs": []
    },
    {
      "cell_type": "code",
      "source": [
        "# マイマップからデータ抽出\n",
        "\n",
        "def get_mymap(url):\n",
        "\n",
        "    ns = {\"kml\": \"http://www.opengis.net/kml/2.2\"}\n",
        "\n",
        "    p = fetch_file(url, \"rakuten.kmz\")\n",
        "\n",
        "    with zipfile.ZipFile(p) as existing_zip:\n",
        "        existing_zip.extractall(\"kmz\")\n",
        "\n",
        "    tree = etree.parse(\"./kmz/doc.kml\")\n",
        "\n",
        "    data = []\n",
        "\n",
        "    for i in tree.xpath(\"//kml:Placemark\", namespaces=ns):\n",
        "\n",
        "        d = {}\n",
        "\n",
        "        d[\"場所\"] = \"\".join(i.xpath(\"./kml:name/text()\", namespaces=ns)).strip()\n",
        "        d[\"geometry\"] = \"\".join(\n",
        "            i.xpath(\"./kml:Point/kml:coordinates/text()\", namespaces=ns)\n",
        "        ).strip()\n",
        "\n",
        "        for j in i.xpath(\"./kml:ExtendedData/kml:Data\", namespaces=ns):\n",
        "\n",
        "            k = j.attrib[\"name\"].strip()\n",
        "            v = \"\".join(j.xpath(\"./kml:value/text()\", namespaces=ns)).strip()\n",
        "\n",
        "            d[k] = v\n",
        "\n",
        "        data.append(d)\n",
        "\n",
        "    df0 = pd.DataFrame(data)\n",
        "\n",
        "    df0[[\"経度\", \"緯度\", \"標高\"]] = df0[\"geometry\"].str.split(\",\", expand=True)\n",
        "\n",
        "    # 文字から数値に変換\n",
        "    df0[\"経度\"] = pd.to_numeric(df0[\"経度\"])\n",
        "    df0[\"経度\"] = pd.to_numeric(df0[\"経度\"])\n",
        "\n",
        "    # 緯度・経度が欠損の場合は削除\n",
        "    df0.dropna(subset=[\"緯度\", \"経度\"], how=\"any\", inplace=True)\n",
        "\n",
        "    df0[\"場所\"] = df0[\"場所\"].str.replace(\"【.+】\", \"\", regex=True)\n",
        "\n",
        "    df0[\"eNB-LCID\"] = df0[\"eNB-LCID\"].str.strip()\n",
        "\n",
        "    df0[\"eNB-LCID\"] = df0[\"eNB-LCID\"].mask(df0[\"eNB-LCID\"] == \"\")\n",
        "\n",
        "    df1 = df0[[\"場所\", \"eNB-LCID\", \"緯度\", \"経度\"]].copy()\n",
        "\n",
        "    return df1"
      ],
      "metadata": {
        "id": "CWi4vUIOgArm"
      },
      "execution_count": null,
      "outputs": []
    },
    {
      "cell_type": "code",
      "source": [
        "# 電測ポイントを地図表示\n",
        "\n",
        "def map_make(df):\n",
        "\n",
        "    lat = df[\"lat\"].mean()\n",
        "    lon = df[\"lon\"].mean()\n",
        "\n",
        "    # map = folium.Map(location=[lat, lon], zoom_start=14)\n",
        "\n",
        "    map = folium.Map(tiles=None, location=[lat, lon], zoom_start=14)\n",
        "\n",
        "    # Googleマップ標準\n",
        "    folium.raster_layers.TileLayer(\n",
        "        \"https://{s}.google.com/vt/lyrs=m&x={x}&y={y}&z={z}\",\n",
        "        subdomains=[\"mt0\", \"mt1\", \"mt2\", \"mt3\"],\n",
        "        name=\"Google Map\",\n",
        "        attr=\"<a href='https://developers.google.com/maps/documentation' target='_blank'>Google Map</a>\",\n",
        "    ).add_to(map)\n",
        "\n",
        "    for _, r in df.iterrows():\n",
        "\n",
        "        cid = r[\"rnc\"] if r[\"rnc\"] < 19 else 0\n",
        "\n",
        "        folium.CircleMarker(\n",
        "            location=[r.lat, r.lon],\n",
        "            radius=10,\n",
        "            color=colors[cid],\n",
        "            fill=True,\n",
        "            tooltip=r[\"id\"],\n",
        "        ).add_to(map)\n",
        "\n",
        "        folium.Marker(\n",
        "            location=[r.lat, r.lon],\n",
        "            icon=DivIcon(\n",
        "                icon_size=(20, 20),\n",
        "                icon_anchor=(10, 10),\n",
        "                html=f'<div style=\"text-align:center; font-size: 12pt; font-weight: bold\">{r[\"ta\"]}</div>',\n",
        "            ),\n",
        "            tooltip=f'{r[\"id\"]} TA:{r[\"ta\"]}',\n",
        "        ).add_to(map)\n",
        "\n",
        "    return map"
      ],
      "metadata": {
        "id": "3-Vb_7zHxEpX"
      },
      "execution_count": null,
      "outputs": []
    },
    {
      "cell_type": "markdown",
      "source": [
        "## TowerCollector"
      ],
      "metadata": {
        "id": "meKXoucBfLAe"
      }
    },
    {
      "cell_type": "code",
      "source": [
        "df0 = pd.read_csv(fn, parse_dates=[\"measured_at\"], dtype={\"ta\": str}).dropna(\n",
        "    how=\"all\", axis=1\n",
        ")\n",
        "\n",
        "df0"
      ],
      "metadata": {
        "id": "7_uWeUS_tb7P"
      },
      "execution_count": null,
      "outputs": []
    },
    {
      "cell_type": "code",
      "source": [
        "# 日時変換\n",
        "df0[\"measured_at\"] = df0[\"measured_at\"].dt.tz_convert(\"Asia/Tokyo\").dt.tz_localize(None)\n",
        "\n",
        "# TAが欠損\n",
        "df0[\"ta\"] = df0[\"ta\"].fillna(\"-\")\n",
        "\n",
        "df0.dropna(how=\"any\", subset=[\"short_cell_id\", \"rnc\"], inplace=True)"
      ],
      "metadata": {
        "id": "WI4TMbEYtb93"
      },
      "execution_count": null,
      "outputs": []
    },
    {
      "cell_type": "code",
      "source": [
        "# バンド指定\n",
        "df1 = df0.query(\"mcc == 440 & mnc == 11\").copy()\n",
        "df1"
      ],
      "metadata": {
        "id": "IaLFJjUWtcGo"
      },
      "execution_count": null,
      "outputs": []
    },
    {
      "cell_type": "code",
      "source": [
        "df1[\"short_cell_id\"] = df1[\"short_cell_id\"].astype(int)\n",
        "df1[\"rnc\"] = df1[\"rnc\"].astype(int)"
      ],
      "metadata": {
        "id": "jvEBK_RktcJP"
      },
      "execution_count": null,
      "outputs": []
    },
    {
      "cell_type": "code",
      "source": [
        "df1[\"id\"] = df1[\"short_cell_id\"].astype(str) + \"-\" + df1[\"rnc\"].astype(str)"
      ],
      "metadata": {
        "id": "Lj1MzvYptcMH"
      },
      "execution_count": null,
      "outputs": []
    },
    {
      "cell_type": "code",
      "source": [
        "# dbmが最大\n",
        "df2 = df1.groupby([\"short_cell_id\", \"rnc\"])[\"dbm\"].max().reset_index()\n",
        "df2"
      ],
      "metadata": {
        "id": "k9nH_zYdtcO_"
      },
      "execution_count": null,
      "outputs": []
    },
    {
      "cell_type": "code",
      "source": [
        "df3 = pd.merge(df1, df2)\n",
        "\n",
        "df3"
      ],
      "metadata": {
        "id": "yOvytc4StcR3"
      },
      "execution_count": null,
      "outputs": []
    },
    {
      "cell_type": "markdown",
      "source": [
        "# 地図"
      ],
      "metadata": {
        "id": "cqdqQBl8xAxh"
      }
    },
    {
      "cell_type": "markdown",
      "source": [
        "## 全部"
      ],
      "metadata": {
        "id": "aS5y_3c5xTlB"
      }
    },
    {
      "cell_type": "code",
      "source": [
        "map0 = map_make(df1)\n",
        "map0.save(\"map0.html\")\n",
        "map0"
      ],
      "metadata": {
        "id": "y3GtFVCWxEsH"
      },
      "execution_count": null,
      "outputs": []
    },
    {
      "cell_type": "markdown",
      "source": [
        "## 基地局付近"
      ],
      "metadata": {
        "id": "pDNJTWbIxbs5"
      }
    },
    {
      "cell_type": "code",
      "source": [
        "map1 = map_make(df3)\n",
        "map1.save(\"map1.html\")\n",
        "map1"
      ],
      "metadata": {
        "id": "fZlJqOchxExx"
      },
      "execution_count": null,
      "outputs": []
    },
    {
      "cell_type": "code",
      "source": [
        "df4 = get_mymap(url).dropna(subset=[\"eNB-LCID\"])"
      ],
      "metadata": {
        "id": "FJwt2b34xE0f"
      },
      "execution_count": null,
      "outputs": []
    },
    {
      "cell_type": "code",
      "source": [
        "df4"
      ],
      "metadata": {
        "id": "zrmxBCFEnP6G"
      },
      "execution_count": null,
      "outputs": []
    },
    {
      "cell_type": "markdown",
      "source": [
        "## 未確認"
      ],
      "metadata": {
        "id": "HdJ-YV8cdxMO"
      }
    },
    {
      "cell_type": "code",
      "source": [
        "df4[[\"eNB\", \"LCID\"]] = df4[\"eNB-LCID\"].str.split(\"-\", expand=True)\n",
        "df4[\"LCID\"] = df4[\"LCID\"].str.split(\",\")"
      ],
      "metadata": {
        "id": "onASByX6_11A"
      },
      "execution_count": null,
      "outputs": []
    },
    {
      "cell_type": "code",
      "source": [
        "df5 = df4.explode(\"LCID\")\n",
        "df5[\"id\"] = df5[\"eNB\"] + \"-\" + df5[\"LCID\"]"
      ],
      "metadata": {
        "id": "W15iwpVpxE6v"
      },
      "execution_count": null,
      "outputs": []
    },
    {
      "cell_type": "code",
      "source": [
        "df6 = df3[~df3[\"id\"].isin(df5[\"id\"])]\n",
        "df6"
      ],
      "metadata": {
        "id": "jeS02b12BiaA"
      },
      "execution_count": null,
      "outputs": []
    },
    {
      "cell_type": "code",
      "source": [
        "if len(df6) > 0:\n",
        "    map2 = map_make(df6)\n",
        "    map2.save(\"map2.html\")\n",
        "\n",
        "else:\n",
        "    print(\"データなし\")"
      ],
      "metadata": {
        "id": "rPvoheXhD2Zg"
      },
      "execution_count": null,
      "outputs": []
    },
    {
      "cell_type": "code",
      "source": [
        "map2"
      ],
      "metadata": {
        "id": "OjH1UKJEEBsf"
      },
      "execution_count": null,
      "outputs": []
    },
    {
      "cell_type": "markdown",
      "source": [
        "# 抽出"
      ],
      "metadata": {
        "id": "UO0oRZeXEMsx"
      }
    },
    {
      "cell_type": "code",
      "source": [
        "df1[df1[\"short_cell_id\"].isin(enb)]\n",
        "\n",
        "df7 = df1[df1[\"short_cell_id\"].isin(enb) & df1[\"rnc\"].isin(lcid)]\n",
        "df7"
      ],
      "metadata": {
        "id": "w3TMU5cxEISH"
      },
      "execution_count": null,
      "outputs": []
    },
    {
      "cell_type": "code",
      "source": [
        "if len(df7) > 0:\n",
        "    map3 = map_make(df7)\n",
        "    map3.save(\"map3.html\")\n",
        "\n",
        "else:\n",
        "    print(\"データなし\")"
      ],
      "metadata": {
        "id": "tSFl6kt9EhjQ"
      },
      "execution_count": null,
      "outputs": []
    },
    {
      "cell_type": "code",
      "source": [
        "map3"
      ],
      "metadata": {
        "id": "jltQ33hGEhmX"
      },
      "execution_count": null,
      "outputs": []
    }
  ]
}
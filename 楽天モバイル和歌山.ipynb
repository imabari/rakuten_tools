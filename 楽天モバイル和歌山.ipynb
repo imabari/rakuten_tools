{
  "nbformat": 4,
  "nbformat_minor": 0,
  "metadata": {
    "colab": {
      "name": "楽天モバイル和歌山.ipynb",
      "provenance": [],
      "collapsed_sections": [],
      "authorship_tag": "ABX9TyMtxWx3SlWg9uz0q2gctnsM",
      "include_colab_link": true
    },
    "kernelspec": {
      "name": "python3",
      "display_name": "Python 3"
    },
    "language_info": {
      "name": "python"
    }
  },
  "cells": [
    {
      "cell_type": "markdown",
      "metadata": {
        "id": "view-in-github",
        "colab_type": "text"
      },
      "source": [
        "<a href=\"https://colab.research.google.com/github/imabari/rakuten_tools/blob/main/%E6%A5%BD%E5%A4%A9%E3%83%A2%E3%83%90%E3%82%A4%E3%83%AB%E5%92%8C%E6%AD%8C%E5%B1%B1.ipynb\" target=\"_parent\"><img src=\"https://colab.research.google.com/assets/colab-badge.svg\" alt=\"Open In Colab\"/></a>"
      ]
    },
    {
      "cell_type": "markdown",
      "source": [
        "# 実行方法\n",
        "\n",
        "1. 上の「Open in Colab」をクリック（Googleアカウント必要）\n",
        "2. 設定にスプレッドシートのURLを貼り付け\n",
        "3. 上部メニューより「ランタイム」を選択\n",
        "4. 「すべてのセルを実行」を選択\n",
        "5. 「rakuten.kml」が自動ダウンロードでされるのでマイマップにアップロード"
      ],
      "metadata": {
        "id": "JRfa14xgpUXL"
      }
    },
    {
      "cell_type": "markdown",
      "source": [
        "# 設定"
      ],
      "metadata": {
        "id": "G_CZCWad8FjP"
      }
    },
    {
      "cell_type": "code",
      "source": [
        "# レイヤー名\n",
        "layer_name = \"楽天モバイル(和歌山)\"\n",
        "\n",
        "# スプレッドシートのURL\n",
        "url = \"https://docs.google.com/spreadsheets/d/e/2PACX-1vRmhTv7hMnKlkpXDCNurEsMkViecXWl0kf4bW43P_6l8TAV3znZtEGbk8MHnOTs57OGjg3Ksv2OMIYx/pub?output=csv\""
      ],
      "metadata": {
        "id": "roHLVGZv8IfP"
      },
      "execution_count": null,
      "outputs": []
    },
    {
      "cell_type": "markdown",
      "source": [
        "# インストール"
      ],
      "metadata": {
        "id": "4JkxqM9x8fjM"
      }
    },
    {
      "cell_type": "code",
      "source": [
        "!pip install simplekml"
      ],
      "metadata": {
        "id": "7CrKALHM0FDo",
        "colab": {
          "base_uri": "https://localhost:8080/"
        },
        "outputId": "19aaae60-69fe-4da6-95b5-052e58578aad"
      },
      "execution_count": null,
      "outputs": [
        {
          "output_type": "stream",
          "name": "stdout",
          "text": [
            "Collecting simplekml\n",
            "  Downloading simplekml-1.3.6.tar.gz (52 kB)\n",
            "\u001b[?25l\r\u001b[K     |██████▏                         | 10 kB 17.2 MB/s eta 0:00:01\r\u001b[K     |████████████▍                   | 20 kB 23.8 MB/s eta 0:00:01\r\u001b[K     |██████████████████▌             | 30 kB 15.1 MB/s eta 0:00:01\r\u001b[K     |████████████████████████▊       | 40 kB 11.1 MB/s eta 0:00:01\r\u001b[K     |███████████████████████████████ | 51 kB 7.3 MB/s eta 0:00:01\r\u001b[K     |████████████████████████████████| 52 kB 1.3 MB/s \n",
            "\u001b[?25hBuilding wheels for collected packages: simplekml\n",
            "  Building wheel for simplekml (setup.py) ... \u001b[?25l\u001b[?25hdone\n",
            "  Created wheel for simplekml: filename=simplekml-1.3.6-py3-none-any.whl size=65876 sha256=aaeaed22e101cf47058ca5d7ba1353cc28a6c7e36b7fc3611ba0d64299ca237f\n",
            "  Stored in directory: /root/.cache/pip/wheels/5c/ec/e6/10af1a1fb29ffca95151d4c886d6e06fc309c68f46519892de\n",
            "Successfully built simplekml\n",
            "Installing collected packages: simplekml\n",
            "Successfully installed simplekml-1.3.6\n"
          ]
        }
      ]
    },
    {
      "cell_type": "markdown",
      "source": [
        "# プログラム"
      ],
      "metadata": {
        "id": "uQxy3eTsDeki"
      }
    },
    {
      "cell_type": "code",
      "source": [
        "import pandas as pd\n",
        "import simplekml"
      ],
      "metadata": {
        "id": "9ZHzMAXmwu-J"
      },
      "execution_count": null,
      "outputs": []
    },
    {
      "cell_type": "code",
      "source": [
        "def CDATA(text = \"\"):\n",
        "\n",
        "    result = rf'<![CDATA[{text}]]>' if text else \"\"\n",
        "\n",
        "    return result"
      ],
      "metadata": {
        "id": "45ZAcXXO_jcy"
      },
      "execution_count": null,
      "outputs": []
    },
    {
      "cell_type": "code",
      "source": [
        "# CSV読み込み\n",
        "df = pd.read_csv(url, dtype=str).fillna(\"\")"
      ],
      "metadata": {
        "id": "w4Ljemylw5Pb"
      },
      "execution_count": null,
      "outputs": []
    },
    {
      "cell_type": "code",
      "source": [
        "# 列名変更\n",
        "df.rename(columns={\"Placemark Name\": \"名前\"}, inplace=True)"
      ],
      "metadata": {
        "id": "Us23s0ub3kNt"
      },
      "execution_count": null,
      "outputs": []
    },
    {
      "cell_type": "code",
      "source": [
        "df.head(10)"
      ],
      "metadata": {
        "id": "u40EDt0u1IO4",
        "colab": {
          "base_uri": "https://localhost:8080/",
          "height": 1000
        },
        "outputId": "d274e546-115a-447b-998c-46be86dbd3c1"
      },
      "execution_count": null,
      "outputs": [
        {
          "output_type": "execute_result",
          "data": {
            "text/plain": [
              "   Folder Name                   名前   latutude   longitude address Sheet Name  \\\n",
              "0  楽天モバイル(和歌山)       (137A)和歌山市和歌川町   34.19419   135.17912             基地局レイヤ   \n",
              "1  楽天モバイル(和歌山)      (138A)和歌山市紀三井寺A  34.174949  135.190089             基地局レイヤ   \n",
              "2  楽天モバイル(和歌山)         (139A)和歌山市中島  34.209041  135.185299             基地局レイヤ   \n",
              "3  楽天モバイル(和歌山)  (146A)和歌山市舟津町1丁目 LS  34.223679  135.159416             基地局レイヤ   \n",
              "4  楽天モバイル(和歌山)         (147B)和歌山市永山   34.20601   135.26152             基地局レイヤ   \n",
              "5  楽天モバイル(和歌山)       (148A)和歌山市向 LS  34.257465  135.151433             基地局レイヤ   \n",
              "6  楽天モバイル(和歌山)       (140A)和歌山市湊3丁目  34.232803  135.146945             基地局レイヤ   \n",
              "7  楽天モバイル(和歌山)        (144A)和歌山市小雑賀  34.201233  135.185742             基地局レイヤ   \n",
              "8  楽天モバイル(和歌山)      (145A)和歌山市紀三井寺B  34.186111  135.186108             基地局レイヤ   \n",
              "9  楽天モバイル(和歌山)     (141A)和歌山市小豆島 LS  34.255395  135.228888             基地局レイヤ   \n",
              "\n",
              "  eNB-LCID(a,b,c)               所在地   市町村               立地場所  ...  4G/5G  \\\n",
              "0    475137-1,2,3      和歌山市和歌川町5-16  和歌山市            和歌山南郵便局  ...     4G   \n",
              "1    475138-1,2,3    和歌山市紀三井寺520 付近  和歌山市                駐車場  ...  4G/5G   \n",
              "2    475139-1,2,3    和歌山市中島161-6 付近  和歌山市               会社敷地  ...     4G   \n",
              "3    475146-1,2,3    和歌山市舟津町1丁目12-9  和歌山市  ローソン和歌山舟津町一丁目店駐車場  ...  4G/5G   \n",
              "4    475147-4,5,6       和歌山市永山24 付近  和歌山市                空き地  ...     4G   \n",
              "5    475148-1,2,3       和歌山市向字権現3-4  和歌山市     ローソン和歌山次郎丸店駐車場  ...     4G   \n",
              "6    475140-1,2,3   和歌山市湊3丁目4-20 付近  和歌山市                民家？  ...     4G   \n",
              "7    475144-1,2,3        和歌山市小雑賀602  和歌山市           川端装工務店倉庫  ...  4G/5G   \n",
              "8    475145-1,2,3  和歌山市紀三井寺747-1 付近  和歌山市                駐車場  ...     4G   \n",
              "9    475141-1,2,3  和歌山市小豆島字梛ノ坪123-3  和歌山市  ローソン和歌山小豆島店バックヤード  ...     4G   \n",
              "\n",
              "   ミリ波/sub6         確認日                                     備考1           備考2  \\\n",
              "0            2021年3月25日                                          アンテナは第一世代(短)   \n",
              "1  ミリ波/sub6  2021年3月25日     2021/07/04 5Gアンテナが追加されている(使えるかは未確認)  アンテナは第一世代(短)   \n",
              "2            2021年3月25日  2021/04/16 5Gアンテナは併設されていないがeLTE信号は出ている  アンテナは第一世代(長)   \n",
              "3  ミリ波/sub6  2021年3月25日     (21/11/15)5Gアンテナ設置／(22/01/28)5G開局確認  アンテナは第一世代(短)   \n",
              "4            2021年3月25日                                          アンテナは第一世代(長)   \n",
              "5            2021年3月25日                                          アンテナは第一世代(短)   \n",
              "6            2021年3月25日                      5Gアンテナ設置(21/10/10)  アンテナは第一世代(長)   \n",
              "7  ミリ波/sub6  2021年3月25日                                     【☆】  アンテナは第一世代(長)   \n",
              "8            2021年3月25日                                          アンテナは第一世代(短)   \n",
              "9            2021年3月25日                                          アンテナは第一世代(長)   \n",
              "\n",
              "  情報提供元  目視              アイコン用 市町村通番  \\\n",
              "0  自力発見  OK                 4G     1   \n",
              "1  自力発見  OK  4G + 5G(n77,n257)     2   \n",
              "2  自力発見  OK                 4G     3   \n",
              "3  自力発見  OK  4G + 5G(n77,n257)     4   \n",
              "4  自力発見  OK                 4G     5   \n",
              "5  自力発見  OK                 4G     6   \n",
              "6  自力発見  OK                 4G     7   \n",
              "7  自力発見  OK  4G + 5G(n77,n257)     8   \n",
              "8  自力発見  OK                 4G     9   \n",
              "9  自力発見  OK                 4G    10   \n",
              "\n",
              "                                      gx_media_links  \n",
              "0  https://lh3.googleusercontent.com/s8V9QO58h9Be...  \n",
              "1  https://lh3.googleusercontent.com/pw/AM-JKLVG2...  \n",
              "2  https://lh3.googleusercontent.com/pw/AM-JKLWsC...  \n",
              "3  https://lh3.googleusercontent.com/pw/AM-JKLUiF...  \n",
              "4  https://lh3.googleusercontent.com/pw/AM-JKLUQa...  \n",
              "5  https://lh3.googleusercontent.com/pw/AM-JKLVgB...  \n",
              "6  https://lh3.googleusercontent.com/pw/AM-JKLXX6...  \n",
              "7  https://lh3.googleusercontent.com/pw/AM-JKLXcZ...  \n",
              "8  https://lh3.googleusercontent.com/pw/AM-JKLWJw...  \n",
              "9  https://lh3.googleusercontent.com/pw/AM-JKLWaV...  \n",
              "\n",
              "[10 rows x 23 columns]"
            ],
            "text/html": [
              "\n",
              "  <div id=\"df-36d3c05e-83b0-4e87-bb8e-8dd73b17d898\">\n",
              "    <div class=\"colab-df-container\">\n",
              "      <div>\n",
              "<style scoped>\n",
              "    .dataframe tbody tr th:only-of-type {\n",
              "        vertical-align: middle;\n",
              "    }\n",
              "\n",
              "    .dataframe tbody tr th {\n",
              "        vertical-align: top;\n",
              "    }\n",
              "\n",
              "    .dataframe thead th {\n",
              "        text-align: right;\n",
              "    }\n",
              "</style>\n",
              "<table border=\"1\" class=\"dataframe\">\n",
              "  <thead>\n",
              "    <tr style=\"text-align: right;\">\n",
              "      <th></th>\n",
              "      <th>Folder Name</th>\n",
              "      <th>名前</th>\n",
              "      <th>latutude</th>\n",
              "      <th>longitude</th>\n",
              "      <th>address</th>\n",
              "      <th>Sheet Name</th>\n",
              "      <th>eNB-LCID(a,b,c)</th>\n",
              "      <th>所在地</th>\n",
              "      <th>市町村</th>\n",
              "      <th>立地場所</th>\n",
              "      <th>...</th>\n",
              "      <th>4G/5G</th>\n",
              "      <th>ミリ波/sub6</th>\n",
              "      <th>確認日</th>\n",
              "      <th>備考1</th>\n",
              "      <th>備考2</th>\n",
              "      <th>情報提供元</th>\n",
              "      <th>目視</th>\n",
              "      <th>アイコン用</th>\n",
              "      <th>市町村通番</th>\n",
              "      <th>gx_media_links</th>\n",
              "    </tr>\n",
              "  </thead>\n",
              "  <tbody>\n",
              "    <tr>\n",
              "      <th>0</th>\n",
              "      <td>楽天モバイル(和歌山)</td>\n",
              "      <td>(137A)和歌山市和歌川町</td>\n",
              "      <td>34.19419</td>\n",
              "      <td>135.17912</td>\n",
              "      <td></td>\n",
              "      <td>基地局レイヤ</td>\n",
              "      <td>475137-1,2,3</td>\n",
              "      <td>和歌山市和歌川町5-16</td>\n",
              "      <td>和歌山市</td>\n",
              "      <td>和歌山南郵便局</td>\n",
              "      <td>...</td>\n",
              "      <td>4G</td>\n",
              "      <td></td>\n",
              "      <td>2021年3月25日</td>\n",
              "      <td></td>\n",
              "      <td>アンテナは第一世代(短)</td>\n",
              "      <td>自力発見</td>\n",
              "      <td>OK</td>\n",
              "      <td>4G</td>\n",
              "      <td>1</td>\n",
              "      <td>https://lh3.googleusercontent.com/s8V9QO58h9Be...</td>\n",
              "    </tr>\n",
              "    <tr>\n",
              "      <th>1</th>\n",
              "      <td>楽天モバイル(和歌山)</td>\n",
              "      <td>(138A)和歌山市紀三井寺A</td>\n",
              "      <td>34.174949</td>\n",
              "      <td>135.190089</td>\n",
              "      <td></td>\n",
              "      <td>基地局レイヤ</td>\n",
              "      <td>475138-1,2,3</td>\n",
              "      <td>和歌山市紀三井寺520 付近</td>\n",
              "      <td>和歌山市</td>\n",
              "      <td>駐車場</td>\n",
              "      <td>...</td>\n",
              "      <td>4G/5G</td>\n",
              "      <td>ミリ波/sub6</td>\n",
              "      <td>2021年3月25日</td>\n",
              "      <td>2021/07/04 5Gアンテナが追加されている(使えるかは未確認)</td>\n",
              "      <td>アンテナは第一世代(短)</td>\n",
              "      <td>自力発見</td>\n",
              "      <td>OK</td>\n",
              "      <td>4G + 5G(n77,n257)</td>\n",
              "      <td>2</td>\n",
              "      <td>https://lh3.googleusercontent.com/pw/AM-JKLVG2...</td>\n",
              "    </tr>\n",
              "    <tr>\n",
              "      <th>2</th>\n",
              "      <td>楽天モバイル(和歌山)</td>\n",
              "      <td>(139A)和歌山市中島</td>\n",
              "      <td>34.209041</td>\n",
              "      <td>135.185299</td>\n",
              "      <td></td>\n",
              "      <td>基地局レイヤ</td>\n",
              "      <td>475139-1,2,3</td>\n",
              "      <td>和歌山市中島161-6 付近</td>\n",
              "      <td>和歌山市</td>\n",
              "      <td>会社敷地</td>\n",
              "      <td>...</td>\n",
              "      <td>4G</td>\n",
              "      <td></td>\n",
              "      <td>2021年3月25日</td>\n",
              "      <td>2021/04/16 5Gアンテナは併設されていないがeLTE信号は出ている</td>\n",
              "      <td>アンテナは第一世代(長)</td>\n",
              "      <td>自力発見</td>\n",
              "      <td>OK</td>\n",
              "      <td>4G</td>\n",
              "      <td>3</td>\n",
              "      <td>https://lh3.googleusercontent.com/pw/AM-JKLWsC...</td>\n",
              "    </tr>\n",
              "    <tr>\n",
              "      <th>3</th>\n",
              "      <td>楽天モバイル(和歌山)</td>\n",
              "      <td>(146A)和歌山市舟津町1丁目 LS</td>\n",
              "      <td>34.223679</td>\n",
              "      <td>135.159416</td>\n",
              "      <td></td>\n",
              "      <td>基地局レイヤ</td>\n",
              "      <td>475146-1,2,3</td>\n",
              "      <td>和歌山市舟津町1丁目12-9</td>\n",
              "      <td>和歌山市</td>\n",
              "      <td>ローソン和歌山舟津町一丁目店駐車場</td>\n",
              "      <td>...</td>\n",
              "      <td>4G/5G</td>\n",
              "      <td>ミリ波/sub6</td>\n",
              "      <td>2021年3月25日</td>\n",
              "      <td>(21/11/15)5Gアンテナ設置／(22/01/28)5G開局確認</td>\n",
              "      <td>アンテナは第一世代(短)</td>\n",
              "      <td>自力発見</td>\n",
              "      <td>OK</td>\n",
              "      <td>4G + 5G(n77,n257)</td>\n",
              "      <td>4</td>\n",
              "      <td>https://lh3.googleusercontent.com/pw/AM-JKLUiF...</td>\n",
              "    </tr>\n",
              "    <tr>\n",
              "      <th>4</th>\n",
              "      <td>楽天モバイル(和歌山)</td>\n",
              "      <td>(147B)和歌山市永山</td>\n",
              "      <td>34.20601</td>\n",
              "      <td>135.26152</td>\n",
              "      <td></td>\n",
              "      <td>基地局レイヤ</td>\n",
              "      <td>475147-4,5,6</td>\n",
              "      <td>和歌山市永山24 付近</td>\n",
              "      <td>和歌山市</td>\n",
              "      <td>空き地</td>\n",
              "      <td>...</td>\n",
              "      <td>4G</td>\n",
              "      <td></td>\n",
              "      <td>2021年3月25日</td>\n",
              "      <td></td>\n",
              "      <td>アンテナは第一世代(長)</td>\n",
              "      <td>自力発見</td>\n",
              "      <td>OK</td>\n",
              "      <td>4G</td>\n",
              "      <td>5</td>\n",
              "      <td>https://lh3.googleusercontent.com/pw/AM-JKLUQa...</td>\n",
              "    </tr>\n",
              "    <tr>\n",
              "      <th>5</th>\n",
              "      <td>楽天モバイル(和歌山)</td>\n",
              "      <td>(148A)和歌山市向 LS</td>\n",
              "      <td>34.257465</td>\n",
              "      <td>135.151433</td>\n",
              "      <td></td>\n",
              "      <td>基地局レイヤ</td>\n",
              "      <td>475148-1,2,3</td>\n",
              "      <td>和歌山市向字権現3-4</td>\n",
              "      <td>和歌山市</td>\n",
              "      <td>ローソン和歌山次郎丸店駐車場</td>\n",
              "      <td>...</td>\n",
              "      <td>4G</td>\n",
              "      <td></td>\n",
              "      <td>2021年3月25日</td>\n",
              "      <td></td>\n",
              "      <td>アンテナは第一世代(短)</td>\n",
              "      <td>自力発見</td>\n",
              "      <td>OK</td>\n",
              "      <td>4G</td>\n",
              "      <td>6</td>\n",
              "      <td>https://lh3.googleusercontent.com/pw/AM-JKLVgB...</td>\n",
              "    </tr>\n",
              "    <tr>\n",
              "      <th>6</th>\n",
              "      <td>楽天モバイル(和歌山)</td>\n",
              "      <td>(140A)和歌山市湊3丁目</td>\n",
              "      <td>34.232803</td>\n",
              "      <td>135.146945</td>\n",
              "      <td></td>\n",
              "      <td>基地局レイヤ</td>\n",
              "      <td>475140-1,2,3</td>\n",
              "      <td>和歌山市湊3丁目4-20 付近</td>\n",
              "      <td>和歌山市</td>\n",
              "      <td>民家？</td>\n",
              "      <td>...</td>\n",
              "      <td>4G</td>\n",
              "      <td></td>\n",
              "      <td>2021年3月25日</td>\n",
              "      <td>5Gアンテナ設置(21/10/10)</td>\n",
              "      <td>アンテナは第一世代(長)</td>\n",
              "      <td>自力発見</td>\n",
              "      <td>OK</td>\n",
              "      <td>4G</td>\n",
              "      <td>7</td>\n",
              "      <td>https://lh3.googleusercontent.com/pw/AM-JKLXX6...</td>\n",
              "    </tr>\n",
              "    <tr>\n",
              "      <th>7</th>\n",
              "      <td>楽天モバイル(和歌山)</td>\n",
              "      <td>(144A)和歌山市小雑賀</td>\n",
              "      <td>34.201233</td>\n",
              "      <td>135.185742</td>\n",
              "      <td></td>\n",
              "      <td>基地局レイヤ</td>\n",
              "      <td>475144-1,2,3</td>\n",
              "      <td>和歌山市小雑賀602</td>\n",
              "      <td>和歌山市</td>\n",
              "      <td>川端装工務店倉庫</td>\n",
              "      <td>...</td>\n",
              "      <td>4G/5G</td>\n",
              "      <td>ミリ波/sub6</td>\n",
              "      <td>2021年3月25日</td>\n",
              "      <td>【☆】</td>\n",
              "      <td>アンテナは第一世代(長)</td>\n",
              "      <td>自力発見</td>\n",
              "      <td>OK</td>\n",
              "      <td>4G + 5G(n77,n257)</td>\n",
              "      <td>8</td>\n",
              "      <td>https://lh3.googleusercontent.com/pw/AM-JKLXcZ...</td>\n",
              "    </tr>\n",
              "    <tr>\n",
              "      <th>8</th>\n",
              "      <td>楽天モバイル(和歌山)</td>\n",
              "      <td>(145A)和歌山市紀三井寺B</td>\n",
              "      <td>34.186111</td>\n",
              "      <td>135.186108</td>\n",
              "      <td></td>\n",
              "      <td>基地局レイヤ</td>\n",
              "      <td>475145-1,2,3</td>\n",
              "      <td>和歌山市紀三井寺747-1 付近</td>\n",
              "      <td>和歌山市</td>\n",
              "      <td>駐車場</td>\n",
              "      <td>...</td>\n",
              "      <td>4G</td>\n",
              "      <td></td>\n",
              "      <td>2021年3月25日</td>\n",
              "      <td></td>\n",
              "      <td>アンテナは第一世代(短)</td>\n",
              "      <td>自力発見</td>\n",
              "      <td>OK</td>\n",
              "      <td>4G</td>\n",
              "      <td>9</td>\n",
              "      <td>https://lh3.googleusercontent.com/pw/AM-JKLWJw...</td>\n",
              "    </tr>\n",
              "    <tr>\n",
              "      <th>9</th>\n",
              "      <td>楽天モバイル(和歌山)</td>\n",
              "      <td>(141A)和歌山市小豆島 LS</td>\n",
              "      <td>34.255395</td>\n",
              "      <td>135.228888</td>\n",
              "      <td></td>\n",
              "      <td>基地局レイヤ</td>\n",
              "      <td>475141-1,2,3</td>\n",
              "      <td>和歌山市小豆島字梛ノ坪123-3</td>\n",
              "      <td>和歌山市</td>\n",
              "      <td>ローソン和歌山小豆島店バックヤード</td>\n",
              "      <td>...</td>\n",
              "      <td>4G</td>\n",
              "      <td></td>\n",
              "      <td>2021年3月25日</td>\n",
              "      <td></td>\n",
              "      <td>アンテナは第一世代(長)</td>\n",
              "      <td>自力発見</td>\n",
              "      <td>OK</td>\n",
              "      <td>4G</td>\n",
              "      <td>10</td>\n",
              "      <td>https://lh3.googleusercontent.com/pw/AM-JKLWaV...</td>\n",
              "    </tr>\n",
              "  </tbody>\n",
              "</table>\n",
              "<p>10 rows × 23 columns</p>\n",
              "</div>\n",
              "      <button class=\"colab-df-convert\" onclick=\"convertToInteractive('df-36d3c05e-83b0-4e87-bb8e-8dd73b17d898')\"\n",
              "              title=\"Convert this dataframe to an interactive table.\"\n",
              "              style=\"display:none;\">\n",
              "        \n",
              "  <svg xmlns=\"http://www.w3.org/2000/svg\" height=\"24px\"viewBox=\"0 0 24 24\"\n",
              "       width=\"24px\">\n",
              "    <path d=\"M0 0h24v24H0V0z\" fill=\"none\"/>\n",
              "    <path d=\"M18.56 5.44l.94 2.06.94-2.06 2.06-.94-2.06-.94-.94-2.06-.94 2.06-2.06.94zm-11 1L8.5 8.5l.94-2.06 2.06-.94-2.06-.94L8.5 2.5l-.94 2.06-2.06.94zm10 10l.94 2.06.94-2.06 2.06-.94-2.06-.94-.94-2.06-.94 2.06-2.06.94z\"/><path d=\"M17.41 7.96l-1.37-1.37c-.4-.4-.92-.59-1.43-.59-.52 0-1.04.2-1.43.59L10.3 9.45l-7.72 7.72c-.78.78-.78 2.05 0 2.83L4 21.41c.39.39.9.59 1.41.59.51 0 1.02-.2 1.41-.59l7.78-7.78 2.81-2.81c.8-.78.8-2.07 0-2.86zM5.41 20L4 18.59l7.72-7.72 1.47 1.35L5.41 20z\"/>\n",
              "  </svg>\n",
              "      </button>\n",
              "      \n",
              "  <style>\n",
              "    .colab-df-container {\n",
              "      display:flex;\n",
              "      flex-wrap:wrap;\n",
              "      gap: 12px;\n",
              "    }\n",
              "\n",
              "    .colab-df-convert {\n",
              "      background-color: #E8F0FE;\n",
              "      border: none;\n",
              "      border-radius: 50%;\n",
              "      cursor: pointer;\n",
              "      display: none;\n",
              "      fill: #1967D2;\n",
              "      height: 32px;\n",
              "      padding: 0 0 0 0;\n",
              "      width: 32px;\n",
              "    }\n",
              "\n",
              "    .colab-df-convert:hover {\n",
              "      background-color: #E2EBFA;\n",
              "      box-shadow: 0px 1px 2px rgba(60, 64, 67, 0.3), 0px 1px 3px 1px rgba(60, 64, 67, 0.15);\n",
              "      fill: #174EA6;\n",
              "    }\n",
              "\n",
              "    [theme=dark] .colab-df-convert {\n",
              "      background-color: #3B4455;\n",
              "      fill: #D2E3FC;\n",
              "    }\n",
              "\n",
              "    [theme=dark] .colab-df-convert:hover {\n",
              "      background-color: #434B5C;\n",
              "      box-shadow: 0px 1px 3px 1px rgba(0, 0, 0, 0.15);\n",
              "      filter: drop-shadow(0px 1px 2px rgba(0, 0, 0, 0.3));\n",
              "      fill: #FFFFFF;\n",
              "    }\n",
              "  </style>\n",
              "\n",
              "      <script>\n",
              "        const buttonEl =\n",
              "          document.querySelector('#df-36d3c05e-83b0-4e87-bb8e-8dd73b17d898 button.colab-df-convert');\n",
              "        buttonEl.style.display =\n",
              "          google.colab.kernel.accessAllowed ? 'block' : 'none';\n",
              "\n",
              "        async function convertToInteractive(key) {\n",
              "          const element = document.querySelector('#df-36d3c05e-83b0-4e87-bb8e-8dd73b17d898');\n",
              "          const dataTable =\n",
              "            await google.colab.kernel.invokeFunction('convertToInteractive',\n",
              "                                                     [key], {});\n",
              "          if (!dataTable) return;\n",
              "\n",
              "          const docLinkHtml = 'Like what you see? Visit the ' +\n",
              "            '<a target=\"_blank\" href=https://colab.research.google.com/notebooks/data_table.ipynb>data table notebook</a>'\n",
              "            + ' to learn more about interactive tables.';\n",
              "          element.innerHTML = '';\n",
              "          dataTable['output_type'] = 'display_data';\n",
              "          await google.colab.output.renderOutput(dataTable, element);\n",
              "          const docLink = document.createElement('div');\n",
              "          docLink.innerHTML = docLinkHtml;\n",
              "          element.appendChild(docLink);\n",
              "        }\n",
              "      </script>\n",
              "    </div>\n",
              "  </div>\n",
              "  "
            ]
          },
          "metadata": {},
          "execution_count": 7
        }
      ]
    },
    {
      "cell_type": "code",
      "source": [
        "# 列名確認\n",
        "df.columns"
      ],
      "metadata": {
        "id": "rxnDrCYxoctu",
        "colab": {
          "base_uri": "https://localhost:8080/"
        },
        "outputId": "a781cf63-eea6-4a99-c4fe-0c81643de2be"
      },
      "execution_count": null,
      "outputs": [
        {
          "output_type": "execute_result",
          "data": {
            "text/plain": [
              "Index(['Folder Name', '名前', 'latutude', 'longitude', 'address', 'Sheet Name',\n",
              "       'eNB-LCID(a,b,c)', '所在地', '市町村', '立地場所', '形態', '開局', 'PCI(a,b,c)',\n",
              "       '4G/5G', 'ミリ波/sub6', '確認日', '備考1', '備考2', '情報提供元', '目視', 'アイコン用',\n",
              "       '市町村通番', 'gx_media_links'],\n",
              "      dtype='object')"
            ]
          },
          "metadata": {},
          "execution_count": 8
        }
      ]
    },
    {
      "cell_type": "code",
      "source": [
        "# 不要列削除\n",
        "df.drop([\"address\", \"Sheet Name\", \"ミリ波/sub6\"], axis=1, inplace=True)"
      ],
      "metadata": {
        "id": "9ui-YYavpT__"
      },
      "execution_count": null,
      "outputs": []
    },
    {
      "cell_type": "code",
      "source": [
        "# IMGタグ作成\n",
        "df[\"img\"] = df[\"gx_media_links\"].apply(lambda s: \"\".join([f'<img src=\"{img}\">' for img in s.split()]))"
      ],
      "metadata": {
        "id": "SMgRaH016-GO"
      },
      "execution_count": null,
      "outputs": []
    },
    {
      "cell_type": "markdown",
      "source": [
        "# KML作成"
      ],
      "metadata": {
        "id": "nE9R52N28pvV"
      }
    },
    {
      "cell_type": "code",
      "source": [
        "kml = simplekml.Kml(name=layer_name)\n",
        "kml.parsetext(parse=False)"
      ],
      "metadata": {
        "id": "WchKY55i2QdH"
      },
      "execution_count": null,
      "outputs": []
    },
    {
      "cell_type": "code",
      "source": [
        "for name, group in df.groupby(\"Folder Name\"):\n",
        "\n",
        "    fol = kml.newfolder()\n",
        "    fol.name = name\n",
        "\n",
        "    for i, r in group.iterrows():\n",
        "\n",
        "        # 名前\n",
        "        pnt = fol.newpoint(name=r[\"名前\"])\n",
        "\n",
        "        # 座標\n",
        "        pnt.coords = [(r.longitude, r.latutude)]\n",
        "\n",
        "        pnt.description = CDATA(r.img)\n",
        "\n",
        "        ex_data = simplekml.ExtendedData()\n",
        "\n",
        "        # 一覧表示に不要な列を削除\n",
        "        r.drop(labels=[\"Folder Name\", \"img\", \"latutude\", \"longitude\", \"gx_media_links\"], inplace=True)\n",
        "\n",
        "        for n, v in r.items():\n",
        "\n",
        "            ex_data.newdata(name=str(n), value=CDATA(str(v)))\n",
        "\n",
        "        pnt.extendeddata = ex_data"
      ],
      "metadata": {
        "id": "lR7ise3c6RdL"
      },
      "execution_count": null,
      "outputs": []
    },
    {
      "cell_type": "code",
      "source": [
        "kml.save(\"rakuten.kml\")"
      ],
      "metadata": {
        "id": "2id7Y6tb2SKY"
      },
      "execution_count": null,
      "outputs": []
    },
    {
      "cell_type": "markdown",
      "source": [
        "# ダウンロード"
      ],
      "metadata": {
        "id": "9etjoJBo7IPU"
      }
    },
    {
      "cell_type": "code",
      "source": [
        "from google.colab import files"
      ],
      "metadata": {
        "id": "kcEOerla7Gqw"
      },
      "execution_count": null,
      "outputs": []
    },
    {
      "cell_type": "code",
      "source": [
        "files.download(\"rakuten.kml\")"
      ],
      "metadata": {
        "id": "uJGsPbdf7Eoc"
      },
      "execution_count": null,
      "outputs": []
    }
  ]
}
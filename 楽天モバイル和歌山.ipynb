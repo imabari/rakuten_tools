{
  "nbformat": 4,
  "nbformat_minor": 0,
  "metadata": {
    "colab": {
      "name": "楽天モバイル和歌山.ipynb",
      "provenance": [],
      "collapsed_sections": [],
      "authorship_tag": "ABX9TyPsEABUu/TVBRwU8zhuar28",
      "include_colab_link": true
    },
    "kernelspec": {
      "name": "python3",
      "display_name": "Python 3"
    },
    "language_info": {
      "name": "python"
    }
  },
  "cells": [
    {
      "cell_type": "markdown",
      "metadata": {
        "id": "view-in-github",
        "colab_type": "text"
      },
      "source": [
        "<a href=\"https://colab.research.google.com/github/imabari/rakuten_tools/blob/main/%E6%A5%BD%E5%A4%A9%E3%83%A2%E3%83%90%E3%82%A4%E3%83%AB%E5%92%8C%E6%AD%8C%E5%B1%B1.ipynb\" target=\"_parent\"><img src=\"https://colab.research.google.com/assets/colab-badge.svg\" alt=\"Open In Colab\"/></a>"
      ]
    },
    {
      "cell_type": "markdown",
      "source": [
        "# 実行方法\n",
        "\n",
        "1. 上の「Open in Colab」をクリック（Googleアカウント必要）\n",
        "2. 設定にスプレッドシートのURLを貼り付け\n",
        "3. 上部メニューより「ランタイム」を選択\n",
        "4. 「すべてのセルを実行」を選択\n",
        "5. 「rakuten.kml」が自動ダウンロードでされるのでマイマップにアップロード"
      ],
      "metadata": {
        "id": "JRfa14xgpUXL"
      }
    },
    {
      "cell_type": "markdown",
      "source": [
        "# 設定"
      ],
      "metadata": {
        "id": "G_CZCWad8FjP"
      }
    },
    {
      "cell_type": "code",
      "source": [
        "# レイヤー名\n",
        "layer_name = \"楽天モバイル(和歌山)\"\n",
        "\n",
        "# スプレッドシートのURL\n",
        "url = \"https://docs.google.com/spreadsheets/d/e/2PACX-1vRmhTv7hMnKlkpXDCNurEsMkViecXWl0kf4bW43P_6l8TAV3znZtEGbk8MHnOTs57OGjg3Ksv2OMIYx/pub?output=csv\""
      ],
      "metadata": {
        "id": "roHLVGZv8IfP"
      },
      "execution_count": null,
      "outputs": []
    },
    {
      "cell_type": "markdown",
      "source": [
        "# インストール"
      ],
      "metadata": {
        "id": "4JkxqM9x8fjM"
      }
    },
    {
      "cell_type": "code",
      "source": [
        "!pip install simplekml"
      ],
      "metadata": {
        "id": "7CrKALHM0FDo"
      },
      "execution_count": null,
      "outputs": []
    },
    {
      "cell_type": "markdown",
      "source": [
        "# プログラム"
      ],
      "metadata": {
        "id": "uQxy3eTsDeki"
      }
    },
    {
      "cell_type": "code",
      "source": [
        "import pandas as pd\n",
        "import simplekml"
      ],
      "metadata": {
        "id": "9ZHzMAXmwu-J"
      },
      "execution_count": null,
      "outputs": []
    },
    {
      "cell_type": "code",
      "source": [
        "# CSV読み込み\n",
        "df = pd.read_csv(url, dtype=str).fillna(\"\")"
      ],
      "metadata": {
        "id": "w4Ljemylw5Pb"
      },
      "execution_count": null,
      "outputs": []
    },
    {
      "cell_type": "code",
      "source": [
        "# 列名変更\n",
        "df.rename(columns={\"Placemark Name\": \"名前\"}, inplace=True)"
      ],
      "metadata": {
        "id": "Us23s0ub3kNt"
      },
      "execution_count": null,
      "outputs": []
    },
    {
      "cell_type": "code",
      "source": [
        "df.head(10)"
      ],
      "metadata": {
        "id": "u40EDt0u1IO4"
      },
      "execution_count": null,
      "outputs": []
    },
    {
      "cell_type": "code",
      "source": [
        "# 列名確認\n",
        "df.columns"
      ],
      "metadata": {
        "id": "rxnDrCYxoctu"
      },
      "execution_count": null,
      "outputs": []
    },
    {
      "cell_type": "code",
      "source": [
        "# 不要列削除\n",
        "df.drop([\"Folder Name\", \"address\", \"Sheet Name\", \"ミリ波/sub6\"], axis=1, inplace=True)"
      ],
      "metadata": {
        "id": "9ui-YYavpT__"
      },
      "execution_count": null,
      "outputs": []
    },
    {
      "cell_type": "markdown",
      "source": [
        "# KML作成"
      ],
      "metadata": {
        "id": "nE9R52N28pvV"
      }
    },
    {
      "cell_type": "code",
      "source": [
        "kml = simplekml.Kml(name=layer_name)\n",
        "kml.parsetext(parse=False)"
      ],
      "metadata": {
        "id": "WchKY55i2QdH"
      },
      "execution_count": null,
      "outputs": []
    },
    {
      "cell_type": "code",
      "source": [
        "for i, r in df.iterrows():\n",
        "\n",
        "    # 名前\n",
        "    pnt = kml.newpoint(name=r[\"名前\"])\n",
        "\n",
        "    # 座標\n",
        "    pnt.coords = [(r.longitude, r.latutude)]\n",
        "\n",
        "    # IMGタグ作成・結合\n",
        "    tag = \"\".join([f'<img src=\"{img}\" />' for img in r[\"gx_media_links\"].split()])\n",
        "\n",
        "    pnt.description = rf\"<![CDATA[{tag}]]>\"\n",
        "\n",
        "    ex_data = simplekml.ExtendedData()\n",
        "\n",
        "    # 一覧表示に不要な列を削除\n",
        "    r.drop(labels=[\"latutude\", \"longitude\", \"gx_media_links\"], inplace=True)\n",
        "\n",
        "    for n, v in r.items():\n",
        "\n",
        "        ex_data.newdata(name=str(n), value=rf'<![CDATA[{str(v)}]]>')\n",
        "\n",
        "    pnt.extendeddata = ex_data"
      ],
      "metadata": {
        "id": "KDF0eqgywvDo"
      },
      "execution_count": null,
      "outputs": []
    },
    {
      "cell_type": "code",
      "source": [
        "kml.save(\"rakuten.kml\")"
      ],
      "metadata": {
        "id": "2id7Y6tb2SKY"
      },
      "execution_count": null,
      "outputs": []
    },
    {
      "cell_type": "markdown",
      "source": [
        "# ダウンロード"
      ],
      "metadata": {
        "id": "9etjoJBo7IPU"
      }
    },
    {
      "cell_type": "code",
      "source": [
        "from google.colab import files"
      ],
      "metadata": {
        "id": "kcEOerla7Gqw"
      },
      "execution_count": null,
      "outputs": []
    },
    {
      "cell_type": "code",
      "source": [
        "files.download(\"rakuten.kml\")"
      ],
      "metadata": {
        "id": "uJGsPbdf7Eoc"
      },
      "execution_count": null,
      "outputs": []
    }
  ]
}
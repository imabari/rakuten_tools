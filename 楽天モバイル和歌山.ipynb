{
  "nbformat": 4,
  "nbformat_minor": 0,
  "metadata": {
    "colab": {
      "name": "楽天モバイル和歌山.ipynb",
      "provenance": [],
      "collapsed_sections": [],
      "authorship_tag": "ABX9TyOAsC6sWFvvcs6Rl/KUKHXH",
      "include_colab_link": true
    },
    "kernelspec": {
      "name": "python3",
      "display_name": "Python 3"
    },
    "language_info": {
      "name": "python"
    }
  },
  "cells": [
    {
      "cell_type": "markdown",
      "metadata": {
        "id": "view-in-github",
        "colab_type": "text"
      },
      "source": [
        "<a href=\"https://colab.research.google.com/github/imabari/rakuten_tools/blob/main/%E6%A5%BD%E5%A4%A9%E3%83%A2%E3%83%90%E3%82%A4%E3%83%AB%E5%92%8C%E6%AD%8C%E5%B1%B1.ipynb\" target=\"_parent\"><img src=\"https://colab.research.google.com/assets/colab-badge.svg\" alt=\"Open In Colab\"/></a>"
      ]
    },
    {
      "cell_type": "markdown",
      "source": [
        "# 設定"
      ],
      "metadata": {
        "id": "G_CZCWad8FjP"
      }
    },
    {
      "cell_type": "code",
      "source": [
        "# レイヤー名\n",
        "layer_name = \"楽天モバイル(和歌山)\"\n",
        "\n",
        "# スプレッドシートのURL\n",
        "url = \"https://docs.google.com/spreadsheets/d/e/2PACX-1vTuDeSukNy7aeYwRZ6xmWFQzaB_XWsFkrepELaEzv23AJrWisxs6FccJyLGioMXBbb1BUYnRf78lguP/pub?gid=1412002125&single=true&output=csv\""
      ],
      "metadata": {
        "id": "roHLVGZv8IfP"
      },
      "execution_count": 1,
      "outputs": []
    },
    {
      "cell_type": "markdown",
      "source": [
        "# インストール"
      ],
      "metadata": {
        "id": "4JkxqM9x8fjM"
      }
    },
    {
      "cell_type": "code",
      "source": [
        "!pip install simplekml"
      ],
      "metadata": {
        "colab": {
          "base_uri": "https://localhost:8080/"
        },
        "id": "7CrKALHM0FDo",
        "outputId": "02a5f27e-f5ca-4578-de30-41510c22d03b"
      },
      "execution_count": 2,
      "outputs": [
        {
          "output_type": "stream",
          "name": "stdout",
          "text": [
            "Collecting simplekml\n",
            "  Downloading simplekml-1.3.6.tar.gz (52 kB)\n",
            "\u001b[?25l\r\u001b[K     |██████▏                         | 10 kB 18.4 MB/s eta 0:00:01\r\u001b[K     |████████████▍                   | 20 kB 22.7 MB/s eta 0:00:01\r\u001b[K     |██████████████████▌             | 30 kB 21.4 MB/s eta 0:00:01\r\u001b[K     |████████████████████████▊       | 40 kB 11.9 MB/s eta 0:00:01\r\u001b[K     |███████████████████████████████ | 51 kB 13.2 MB/s eta 0:00:01\r\u001b[K     |████████████████████████████████| 52 kB 1.0 MB/s \n",
            "\u001b[?25hBuilding wheels for collected packages: simplekml\n",
            "  Building wheel for simplekml (setup.py) ... \u001b[?25l\u001b[?25hdone\n",
            "  Created wheel for simplekml: filename=simplekml-1.3.6-py3-none-any.whl size=65876 sha256=cca9a9fc8a8525f0516ec841811636fb970a3c98b764c545ab44d17e84242618\n",
            "  Stored in directory: /root/.cache/pip/wheels/5c/ec/e6/10af1a1fb29ffca95151d4c886d6e06fc309c68f46519892de\n",
            "Successfully built simplekml\n",
            "Installing collected packages: simplekml\n",
            "Successfully installed simplekml-1.3.6\n"
          ]
        }
      ]
    },
    {
      "cell_type": "markdown",
      "source": [
        "# プログラム"
      ],
      "metadata": {
        "id": "uQxy3eTsDeki"
      }
    },
    {
      "cell_type": "code",
      "source": [
        "import pandas as pd\n",
        "import simplekml"
      ],
      "metadata": {
        "id": "9ZHzMAXmwu-J"
      },
      "execution_count": 3,
      "outputs": []
    },
    {
      "cell_type": "code",
      "source": [
        "# CSV読み込み\n",
        "df = pd.read_csv(url, index_col=0, dtype=str).fillna(\"\")"
      ],
      "metadata": {
        "id": "w4Ljemylw5Pb"
      },
      "execution_count": 4,
      "outputs": []
    },
    {
      "cell_type": "code",
      "source": [
        "# 列名変更\n",
        "df.rename(columns={\"Placemark Name\": \"名前\"}, inplace=True)"
      ],
      "metadata": {
        "id": "Us23s0ub3kNt"
      },
      "execution_count": 5,
      "outputs": []
    },
    {
      "cell_type": "code",
      "source": [
        "df.head(10)"
      ],
      "metadata": {
        "colab": {
          "base_uri": "https://localhost:8080/",
          "height": 1000
        },
        "id": "u40EDt0u1IO4",
        "outputId": "75024bf0-6c96-4846-cd6b-a6cae243fc71"
      },
      "execution_count": 6,
      "outputs": [
        {
          "output_type": "execute_result",
          "data": {
            "text/plain": [
              "                              名前     latutude    longitude address Sheet Name  \\\n",
              "Folder Name                                                                     \n",
              "楽天モバイル(和歌山)       (137A)和歌山市和歌川町     34.19419    135.17912             基地局レイヤ   \n",
              "楽天モバイル(和歌山)      (138A)和歌山市紀三井寺A    34.174949   135.190089             基地局レイヤ   \n",
              "楽天モバイル(和歌山)         (139A)和歌山市中島    34.209041   135.185299             基地局レイヤ   \n",
              "楽天モバイル(和歌山)  (146A)和歌山市舟津町1丁目 LS    34.223679   135.159416             基地局レイヤ   \n",
              "楽天モバイル(和歌山)         (147B)和歌山市永山     34.20601    135.26152             基地局レイヤ   \n",
              "...                          ...          ...          ...     ...        ...   \n",
              "屋内局・Casa           キーノ和歌山2階 信濃路内   34.2361433  135.1666503             基地局レイヤ   \n",
              "屋内局・Casa     楽天モバイルショップジョーシン和歌山北  34.25932902  135.1682332             基地局レイヤ   \n",
              "屋内局・Casa                  道の駅すさみ  33.50563409  135.5996442             基地局レイヤ   \n",
              "屋内局・Casa         エディオンイオンモール和歌山店   34.2772027  135.1494877             基地局レイヤ   \n",
              "屋内局・Casa      楽天モバイルショップWAY書店岩出店   34.2596676  135.3041628             基地局レイヤ   \n",
              "\n",
              "            eNB-LCID(a,b,c)              所在地   市町村               立地場所  \\\n",
              "Folder Name                                                             \n",
              "楽天モバイル(和歌山)    475137-1,2,3     和歌山市和歌川町5-16  和歌山市            和歌山南郵便局   \n",
              "楽天モバイル(和歌山)    475138-1,2,3   和歌山市紀三井寺520 付近  和歌山市                駐車場   \n",
              "楽天モバイル(和歌山)    475139-1,2,3   和歌山市中島161-6 付近  和歌山市               会社敷地   \n",
              "楽天モバイル(和歌山)    475146-1,2,3   和歌山市舟津町1丁目12-9  和歌山市  ローソン和歌山舟津町一丁目店駐車場   \n",
              "楽天モバイル(和歌山)    475147-4,5,6      和歌山市永山24 付近  和歌山市                空き地   \n",
              "...                     ...              ...   ...                ...   \n",
              "屋内局・Casa           480140-2       和歌山市東蔵前丁39  和歌山市                店舗内   \n",
              "屋内局・Casa           485137-1      和歌山市平井120-1  和歌山市         楽天モバイルショップ   \n",
              "屋内局・Casa           480139-2  西牟婁郡すさみ町江住808-1  すさみ町                店舗内   \n",
              "屋内局・Casa           485138-1         和歌山市中573  和歌山市                店舗内   \n",
              "屋内局・Casa           480149-6          岩出市西野30   岩出市         楽天モバイルショップ   \n",
              "\n",
              "                  形態  ...  4G/5G  ミリ波/sub6         確認日  \\\n",
              "Folder Name           ...                                \n",
              "楽天モバイル(和歌山)     建物屋上  ...     4G            2021年3月25日   \n",
              "楽天モバイル(和歌山)  コンクリート柱  ...  4G/5G  ミリ波/sub6  2021年3月25日   \n",
              "楽天モバイル(和歌山)  コンクリート柱  ...     4G            2021年3月25日   \n",
              "楽天モバイル(和歌山)  コンクリート柱  ...  4G/5G  ミリ波/sub6  2021年3月25日   \n",
              "楽天モバイル(和歌山)  コンクリート柱  ...     4G            2021年3月25日   \n",
              "...              ...  ...    ...       ...         ...   \n",
              "屋内局・Casa        Casa  ...     4G            2021年6月16日   \n",
              "屋内局・Casa         屋内局  ...     4G            2021年6月28日   \n",
              "屋内局・Casa        Casa  ...     4G            2021年5月31日   \n",
              "屋内局・Casa         屋内局  ...     4G            2021年8月11日   \n",
              "屋内局・Casa        Casa  ...     4G            2022年4月19日   \n",
              "\n",
              "                                                 備考1           備考2  \\\n",
              "Folder Name                                                          \n",
              "楽天モバイル(和歌山)                                           アンテナは第一世代(短)   \n",
              "楽天モバイル(和歌山)      2021/07/04 5Gアンテナが追加されている(使えるかは未確認)  アンテナは第一世代(短)   \n",
              "楽天モバイル(和歌山)   2021/04/16 5Gアンテナは併設されていないがeLTE信号は出ている  アンテナは第一世代(長)   \n",
              "楽天モバイル(和歌山)      (21/11/15)5Gアンテナ設置／(22/01/28)5G開局確認  アンテナは第一世代(短)   \n",
              "楽天モバイル(和歌山)                                           アンテナは第一世代(長)   \n",
              "...                                              ...           ...   \n",
              "屋内局・Casa                                   TAC 64768                 \n",
              "屋内局・Casa                                   TAC 31745                 \n",
              "屋内局・Casa             TAC 64768／トイレ付近のバックヤード内、一般用Casa                 \n",
              "屋内局・Casa     TAC 31745／楽天モバイルショップ局とPCIが重複。(21/08/11)                 \n",
              "屋内局・Casa                                   TAC 64768                 \n",
              "\n",
              "                    情報提供元  目視              アイコン用 市町村通番  \\\n",
              "Folder Name                                              \n",
              "楽天モバイル(和歌山)          自力発見  OK                 4G     1   \n",
              "楽天モバイル(和歌山)          自力発見  OK  4G + 5G(n77,n257)     2   \n",
              "楽天モバイル(和歌山)          自力発見  OK                 4G     3   \n",
              "楽天モバイル(和歌山)          自力発見  OK  4G + 5G(n77,n257)     4   \n",
              "楽天モバイル(和歌山)          自力発見  OK                 4G     5   \n",
              "...                   ...  ..                ...   ...   \n",
              "屋内局・Casa             自力発見  OK               Casa  和歌山2   \n",
              "屋内局・Casa             自力発見  OK                屋内局  和歌山3   \n",
              "屋内局・Casa     Cellmapper情報  NG               Casa  すさみ1   \n",
              "屋内局・Casa             自力発見  OK                屋内局  和歌山4   \n",
              "屋内局・Casa       情報提供フォームより  NG               Casa   岩出1   \n",
              "\n",
              "                                                gx_media_links  \n",
              "Folder Name                                                     \n",
              "楽天モバイル(和歌山)  https://lh3.googleusercontent.com/s8V9QO58h9Be...  \n",
              "楽天モバイル(和歌山)  https://lh3.googleusercontent.com/pw/AM-JKLVG2...  \n",
              "楽天モバイル(和歌山)  https://lh3.googleusercontent.com/pw/AM-JKLWsC...  \n",
              "楽天モバイル(和歌山)  https://lh3.googleusercontent.com/pw/AM-JKLUiF...  \n",
              "楽天モバイル(和歌山)  https://lh3.googleusercontent.com/pw/AM-JKLUQa...  \n",
              "...                                                        ...  \n",
              "屋内局・Casa                                                        \n",
              "屋内局・Casa     https://lh3.googleusercontent.com/pw/AM-JKLUtS...  \n",
              "屋内局・Casa                                                        \n",
              "屋内局・Casa     https://lh3.googleusercontent.com/pw/AM-JKLVP-...  \n",
              "屋内局・Casa                                                        \n",
              "\n",
              "[530 rows x 22 columns]"
            ],
            "text/html": [
              "\n",
              "  <div id=\"df-11bf4c82-9711-4942-935e-6cc3144a0326\">\n",
              "    <div class=\"colab-df-container\">\n",
              "      <div>\n",
              "<style scoped>\n",
              "    .dataframe tbody tr th:only-of-type {\n",
              "        vertical-align: middle;\n",
              "    }\n",
              "\n",
              "    .dataframe tbody tr th {\n",
              "        vertical-align: top;\n",
              "    }\n",
              "\n",
              "    .dataframe thead th {\n",
              "        text-align: right;\n",
              "    }\n",
              "</style>\n",
              "<table border=\"1\" class=\"dataframe\">\n",
              "  <thead>\n",
              "    <tr style=\"text-align: right;\">\n",
              "      <th></th>\n",
              "      <th>名前</th>\n",
              "      <th>latutude</th>\n",
              "      <th>longitude</th>\n",
              "      <th>address</th>\n",
              "      <th>Sheet Name</th>\n",
              "      <th>eNB-LCID(a,b,c)</th>\n",
              "      <th>所在地</th>\n",
              "      <th>市町村</th>\n",
              "      <th>立地場所</th>\n",
              "      <th>形態</th>\n",
              "      <th>...</th>\n",
              "      <th>4G/5G</th>\n",
              "      <th>ミリ波/sub6</th>\n",
              "      <th>確認日</th>\n",
              "      <th>備考1</th>\n",
              "      <th>備考2</th>\n",
              "      <th>情報提供元</th>\n",
              "      <th>目視</th>\n",
              "      <th>アイコン用</th>\n",
              "      <th>市町村通番</th>\n",
              "      <th>gx_media_links</th>\n",
              "    </tr>\n",
              "    <tr>\n",
              "      <th>Folder Name</th>\n",
              "      <th></th>\n",
              "      <th></th>\n",
              "      <th></th>\n",
              "      <th></th>\n",
              "      <th></th>\n",
              "      <th></th>\n",
              "      <th></th>\n",
              "      <th></th>\n",
              "      <th></th>\n",
              "      <th></th>\n",
              "      <th></th>\n",
              "      <th></th>\n",
              "      <th></th>\n",
              "      <th></th>\n",
              "      <th></th>\n",
              "      <th></th>\n",
              "      <th></th>\n",
              "      <th></th>\n",
              "      <th></th>\n",
              "      <th></th>\n",
              "      <th></th>\n",
              "    </tr>\n",
              "  </thead>\n",
              "  <tbody>\n",
              "    <tr>\n",
              "      <th>楽天モバイル(和歌山)</th>\n",
              "      <td>(137A)和歌山市和歌川町</td>\n",
              "      <td>34.19419</td>\n",
              "      <td>135.17912</td>\n",
              "      <td></td>\n",
              "      <td>基地局レイヤ</td>\n",
              "      <td>475137-1,2,3</td>\n",
              "      <td>和歌山市和歌川町5-16</td>\n",
              "      <td>和歌山市</td>\n",
              "      <td>和歌山南郵便局</td>\n",
              "      <td>建物屋上</td>\n",
              "      <td>...</td>\n",
              "      <td>4G</td>\n",
              "      <td></td>\n",
              "      <td>2021年3月25日</td>\n",
              "      <td></td>\n",
              "      <td>アンテナは第一世代(短)</td>\n",
              "      <td>自力発見</td>\n",
              "      <td>OK</td>\n",
              "      <td>4G</td>\n",
              "      <td>1</td>\n",
              "      <td>https://lh3.googleusercontent.com/s8V9QO58h9Be...</td>\n",
              "    </tr>\n",
              "    <tr>\n",
              "      <th>楽天モバイル(和歌山)</th>\n",
              "      <td>(138A)和歌山市紀三井寺A</td>\n",
              "      <td>34.174949</td>\n",
              "      <td>135.190089</td>\n",
              "      <td></td>\n",
              "      <td>基地局レイヤ</td>\n",
              "      <td>475138-1,2,3</td>\n",
              "      <td>和歌山市紀三井寺520 付近</td>\n",
              "      <td>和歌山市</td>\n",
              "      <td>駐車場</td>\n",
              "      <td>コンクリート柱</td>\n",
              "      <td>...</td>\n",
              "      <td>4G/5G</td>\n",
              "      <td>ミリ波/sub6</td>\n",
              "      <td>2021年3月25日</td>\n",
              "      <td>2021/07/04 5Gアンテナが追加されている(使えるかは未確認)</td>\n",
              "      <td>アンテナは第一世代(短)</td>\n",
              "      <td>自力発見</td>\n",
              "      <td>OK</td>\n",
              "      <td>4G + 5G(n77,n257)</td>\n",
              "      <td>2</td>\n",
              "      <td>https://lh3.googleusercontent.com/pw/AM-JKLVG2...</td>\n",
              "    </tr>\n",
              "    <tr>\n",
              "      <th>楽天モバイル(和歌山)</th>\n",
              "      <td>(139A)和歌山市中島</td>\n",
              "      <td>34.209041</td>\n",
              "      <td>135.185299</td>\n",
              "      <td></td>\n",
              "      <td>基地局レイヤ</td>\n",
              "      <td>475139-1,2,3</td>\n",
              "      <td>和歌山市中島161-6 付近</td>\n",
              "      <td>和歌山市</td>\n",
              "      <td>会社敷地</td>\n",
              "      <td>コンクリート柱</td>\n",
              "      <td>...</td>\n",
              "      <td>4G</td>\n",
              "      <td></td>\n",
              "      <td>2021年3月25日</td>\n",
              "      <td>2021/04/16 5Gアンテナは併設されていないがeLTE信号は出ている</td>\n",
              "      <td>アンテナは第一世代(長)</td>\n",
              "      <td>自力発見</td>\n",
              "      <td>OK</td>\n",
              "      <td>4G</td>\n",
              "      <td>3</td>\n",
              "      <td>https://lh3.googleusercontent.com/pw/AM-JKLWsC...</td>\n",
              "    </tr>\n",
              "    <tr>\n",
              "      <th>楽天モバイル(和歌山)</th>\n",
              "      <td>(146A)和歌山市舟津町1丁目 LS</td>\n",
              "      <td>34.223679</td>\n",
              "      <td>135.159416</td>\n",
              "      <td></td>\n",
              "      <td>基地局レイヤ</td>\n",
              "      <td>475146-1,2,3</td>\n",
              "      <td>和歌山市舟津町1丁目12-9</td>\n",
              "      <td>和歌山市</td>\n",
              "      <td>ローソン和歌山舟津町一丁目店駐車場</td>\n",
              "      <td>コンクリート柱</td>\n",
              "      <td>...</td>\n",
              "      <td>4G/5G</td>\n",
              "      <td>ミリ波/sub6</td>\n",
              "      <td>2021年3月25日</td>\n",
              "      <td>(21/11/15)5Gアンテナ設置／(22/01/28)5G開局確認</td>\n",
              "      <td>アンテナは第一世代(短)</td>\n",
              "      <td>自力発見</td>\n",
              "      <td>OK</td>\n",
              "      <td>4G + 5G(n77,n257)</td>\n",
              "      <td>4</td>\n",
              "      <td>https://lh3.googleusercontent.com/pw/AM-JKLUiF...</td>\n",
              "    </tr>\n",
              "    <tr>\n",
              "      <th>楽天モバイル(和歌山)</th>\n",
              "      <td>(147B)和歌山市永山</td>\n",
              "      <td>34.20601</td>\n",
              "      <td>135.26152</td>\n",
              "      <td></td>\n",
              "      <td>基地局レイヤ</td>\n",
              "      <td>475147-4,5,6</td>\n",
              "      <td>和歌山市永山24 付近</td>\n",
              "      <td>和歌山市</td>\n",
              "      <td>空き地</td>\n",
              "      <td>コンクリート柱</td>\n",
              "      <td>...</td>\n",
              "      <td>4G</td>\n",
              "      <td></td>\n",
              "      <td>2021年3月25日</td>\n",
              "      <td></td>\n",
              "      <td>アンテナは第一世代(長)</td>\n",
              "      <td>自力発見</td>\n",
              "      <td>OK</td>\n",
              "      <td>4G</td>\n",
              "      <td>5</td>\n",
              "      <td>https://lh3.googleusercontent.com/pw/AM-JKLUQa...</td>\n",
              "    </tr>\n",
              "    <tr>\n",
              "      <th>...</th>\n",
              "      <td>...</td>\n",
              "      <td>...</td>\n",
              "      <td>...</td>\n",
              "      <td>...</td>\n",
              "      <td>...</td>\n",
              "      <td>...</td>\n",
              "      <td>...</td>\n",
              "      <td>...</td>\n",
              "      <td>...</td>\n",
              "      <td>...</td>\n",
              "      <td>...</td>\n",
              "      <td>...</td>\n",
              "      <td>...</td>\n",
              "      <td>...</td>\n",
              "      <td>...</td>\n",
              "      <td>...</td>\n",
              "      <td>...</td>\n",
              "      <td>...</td>\n",
              "      <td>...</td>\n",
              "      <td>...</td>\n",
              "      <td>...</td>\n",
              "    </tr>\n",
              "    <tr>\n",
              "      <th>屋内局・Casa</th>\n",
              "      <td>キーノ和歌山2階 信濃路内</td>\n",
              "      <td>34.2361433</td>\n",
              "      <td>135.1666503</td>\n",
              "      <td></td>\n",
              "      <td>基地局レイヤ</td>\n",
              "      <td>480140-2</td>\n",
              "      <td>和歌山市東蔵前丁39</td>\n",
              "      <td>和歌山市</td>\n",
              "      <td>店舗内</td>\n",
              "      <td>Casa</td>\n",
              "      <td>...</td>\n",
              "      <td>4G</td>\n",
              "      <td></td>\n",
              "      <td>2021年6月16日</td>\n",
              "      <td>TAC 64768</td>\n",
              "      <td></td>\n",
              "      <td>自力発見</td>\n",
              "      <td>OK</td>\n",
              "      <td>Casa</td>\n",
              "      <td>和歌山2</td>\n",
              "      <td></td>\n",
              "    </tr>\n",
              "    <tr>\n",
              "      <th>屋内局・Casa</th>\n",
              "      <td>楽天モバイルショップジョーシン和歌山北</td>\n",
              "      <td>34.25932902</td>\n",
              "      <td>135.1682332</td>\n",
              "      <td></td>\n",
              "      <td>基地局レイヤ</td>\n",
              "      <td>485137-1</td>\n",
              "      <td>和歌山市平井120-1</td>\n",
              "      <td>和歌山市</td>\n",
              "      <td>楽天モバイルショップ</td>\n",
              "      <td>屋内局</td>\n",
              "      <td>...</td>\n",
              "      <td>4G</td>\n",
              "      <td></td>\n",
              "      <td>2021年6月28日</td>\n",
              "      <td>TAC 31745</td>\n",
              "      <td></td>\n",
              "      <td>自力発見</td>\n",
              "      <td>OK</td>\n",
              "      <td>屋内局</td>\n",
              "      <td>和歌山3</td>\n",
              "      <td>https://lh3.googleusercontent.com/pw/AM-JKLUtS...</td>\n",
              "    </tr>\n",
              "    <tr>\n",
              "      <th>屋内局・Casa</th>\n",
              "      <td>道の駅すさみ</td>\n",
              "      <td>33.50563409</td>\n",
              "      <td>135.5996442</td>\n",
              "      <td></td>\n",
              "      <td>基地局レイヤ</td>\n",
              "      <td>480139-2</td>\n",
              "      <td>西牟婁郡すさみ町江住808-1</td>\n",
              "      <td>すさみ町</td>\n",
              "      <td>店舗内</td>\n",
              "      <td>Casa</td>\n",
              "      <td>...</td>\n",
              "      <td>4G</td>\n",
              "      <td></td>\n",
              "      <td>2021年5月31日</td>\n",
              "      <td>TAC 64768／トイレ付近のバックヤード内、一般用Casa</td>\n",
              "      <td></td>\n",
              "      <td>Cellmapper情報</td>\n",
              "      <td>NG</td>\n",
              "      <td>Casa</td>\n",
              "      <td>すさみ1</td>\n",
              "      <td></td>\n",
              "    </tr>\n",
              "    <tr>\n",
              "      <th>屋内局・Casa</th>\n",
              "      <td>エディオンイオンモール和歌山店</td>\n",
              "      <td>34.2772027</td>\n",
              "      <td>135.1494877</td>\n",
              "      <td></td>\n",
              "      <td>基地局レイヤ</td>\n",
              "      <td>485138-1</td>\n",
              "      <td>和歌山市中573</td>\n",
              "      <td>和歌山市</td>\n",
              "      <td>店舗内</td>\n",
              "      <td>屋内局</td>\n",
              "      <td>...</td>\n",
              "      <td>4G</td>\n",
              "      <td></td>\n",
              "      <td>2021年8月11日</td>\n",
              "      <td>TAC 31745／楽天モバイルショップ局とPCIが重複。(21/08/11)</td>\n",
              "      <td></td>\n",
              "      <td>自力発見</td>\n",
              "      <td>OK</td>\n",
              "      <td>屋内局</td>\n",
              "      <td>和歌山4</td>\n",
              "      <td>https://lh3.googleusercontent.com/pw/AM-JKLVP-...</td>\n",
              "    </tr>\n",
              "    <tr>\n",
              "      <th>屋内局・Casa</th>\n",
              "      <td>楽天モバイルショップWAY書店岩出店</td>\n",
              "      <td>34.2596676</td>\n",
              "      <td>135.3041628</td>\n",
              "      <td></td>\n",
              "      <td>基地局レイヤ</td>\n",
              "      <td>480149-6</td>\n",
              "      <td>岩出市西野30</td>\n",
              "      <td>岩出市</td>\n",
              "      <td>楽天モバイルショップ</td>\n",
              "      <td>Casa</td>\n",
              "      <td>...</td>\n",
              "      <td>4G</td>\n",
              "      <td></td>\n",
              "      <td>2022年4月19日</td>\n",
              "      <td>TAC 64768</td>\n",
              "      <td></td>\n",
              "      <td>情報提供フォームより</td>\n",
              "      <td>NG</td>\n",
              "      <td>Casa</td>\n",
              "      <td>岩出1</td>\n",
              "      <td></td>\n",
              "    </tr>\n",
              "  </tbody>\n",
              "</table>\n",
              "<p>530 rows × 22 columns</p>\n",
              "</div>\n",
              "      <button class=\"colab-df-convert\" onclick=\"convertToInteractive('df-11bf4c82-9711-4942-935e-6cc3144a0326')\"\n",
              "              title=\"Convert this dataframe to an interactive table.\"\n",
              "              style=\"display:none;\">\n",
              "        \n",
              "  <svg xmlns=\"http://www.w3.org/2000/svg\" height=\"24px\"viewBox=\"0 0 24 24\"\n",
              "       width=\"24px\">\n",
              "    <path d=\"M0 0h24v24H0V0z\" fill=\"none\"/>\n",
              "    <path d=\"M18.56 5.44l.94 2.06.94-2.06 2.06-.94-2.06-.94-.94-2.06-.94 2.06-2.06.94zm-11 1L8.5 8.5l.94-2.06 2.06-.94-2.06-.94L8.5 2.5l-.94 2.06-2.06.94zm10 10l.94 2.06.94-2.06 2.06-.94-2.06-.94-.94-2.06-.94 2.06-2.06.94z\"/><path d=\"M17.41 7.96l-1.37-1.37c-.4-.4-.92-.59-1.43-.59-.52 0-1.04.2-1.43.59L10.3 9.45l-7.72 7.72c-.78.78-.78 2.05 0 2.83L4 21.41c.39.39.9.59 1.41.59.51 0 1.02-.2 1.41-.59l7.78-7.78 2.81-2.81c.8-.78.8-2.07 0-2.86zM5.41 20L4 18.59l7.72-7.72 1.47 1.35L5.41 20z\"/>\n",
              "  </svg>\n",
              "      </button>\n",
              "      \n",
              "  <style>\n",
              "    .colab-df-container {\n",
              "      display:flex;\n",
              "      flex-wrap:wrap;\n",
              "      gap: 12px;\n",
              "    }\n",
              "\n",
              "    .colab-df-convert {\n",
              "      background-color: #E8F0FE;\n",
              "      border: none;\n",
              "      border-radius: 50%;\n",
              "      cursor: pointer;\n",
              "      display: none;\n",
              "      fill: #1967D2;\n",
              "      height: 32px;\n",
              "      padding: 0 0 0 0;\n",
              "      width: 32px;\n",
              "    }\n",
              "\n",
              "    .colab-df-convert:hover {\n",
              "      background-color: #E2EBFA;\n",
              "      box-shadow: 0px 1px 2px rgba(60, 64, 67, 0.3), 0px 1px 3px 1px rgba(60, 64, 67, 0.15);\n",
              "      fill: #174EA6;\n",
              "    }\n",
              "\n",
              "    [theme=dark] .colab-df-convert {\n",
              "      background-color: #3B4455;\n",
              "      fill: #D2E3FC;\n",
              "    }\n",
              "\n",
              "    [theme=dark] .colab-df-convert:hover {\n",
              "      background-color: #434B5C;\n",
              "      box-shadow: 0px 1px 3px 1px rgba(0, 0, 0, 0.15);\n",
              "      filter: drop-shadow(0px 1px 2px rgba(0, 0, 0, 0.3));\n",
              "      fill: #FFFFFF;\n",
              "    }\n",
              "  </style>\n",
              "\n",
              "      <script>\n",
              "        const buttonEl =\n",
              "          document.querySelector('#df-11bf4c82-9711-4942-935e-6cc3144a0326 button.colab-df-convert');\n",
              "        buttonEl.style.display =\n",
              "          google.colab.kernel.accessAllowed ? 'block' : 'none';\n",
              "\n",
              "        async function convertToInteractive(key) {\n",
              "          const element = document.querySelector('#df-11bf4c82-9711-4942-935e-6cc3144a0326');\n",
              "          const dataTable =\n",
              "            await google.colab.kernel.invokeFunction('convertToInteractive',\n",
              "                                                     [key], {});\n",
              "          if (!dataTable) return;\n",
              "\n",
              "          const docLinkHtml = 'Like what you see? Visit the ' +\n",
              "            '<a target=\"_blank\" href=https://colab.research.google.com/notebooks/data_table.ipynb>data table notebook</a>'\n",
              "            + ' to learn more about interactive tables.';\n",
              "          element.innerHTML = '';\n",
              "          dataTable['output_type'] = 'display_data';\n",
              "          await google.colab.output.renderOutput(dataTable, element);\n",
              "          const docLink = document.createElement('div');\n",
              "          docLink.innerHTML = docLinkHtml;\n",
              "          element.appendChild(docLink);\n",
              "        }\n",
              "      </script>\n",
              "    </div>\n",
              "  </div>\n",
              "  "
            ]
          },
          "metadata": {},
          "execution_count": 6
        }
      ]
    },
    {
      "cell_type": "code",
      "source": [
        "# 列名確認\n",
        "df.columns"
      ],
      "metadata": {
        "colab": {
          "base_uri": "https://localhost:8080/"
        },
        "id": "rxnDrCYxoctu",
        "outputId": "50a5590a-7319-4d66-8f52-9f06b3ac7810"
      },
      "execution_count": 7,
      "outputs": [
        {
          "output_type": "execute_result",
          "data": {
            "text/plain": [
              "Index(['名前', 'latutude', 'longitude', 'address', 'Sheet Name',\n",
              "       'eNB-LCID(a,b,c)', '所在地', '市町村', '立地場所', '形態', '開局', 'PCI(a,b,c)',\n",
              "       '4G/5G', 'ミリ波/sub6', '確認日', '備考1', '備考2', '情報提供元', '目視', 'アイコン用',\n",
              "       '市町村通番', 'gx_media_links'],\n",
              "      dtype='object')"
            ]
          },
          "metadata": {},
          "execution_count": 7
        }
      ]
    },
    {
      "cell_type": "code",
      "source": [
        "# 不要列削除\n",
        "df.drop([\"address\", \"Sheet Name\", \"ミリ波/sub6\"], axis=1, inplace=True)"
      ],
      "metadata": {
        "id": "9ui-YYavpT__"
      },
      "execution_count": 8,
      "outputs": []
    },
    {
      "cell_type": "markdown",
      "source": [
        "# KML作成"
      ],
      "metadata": {
        "id": "nE9R52N28pvV"
      }
    },
    {
      "cell_type": "code",
      "source": [
        "kml = simplekml.Kml(name=layer_name)\n",
        "kml.parsetext(parse=False)"
      ],
      "metadata": {
        "id": "WchKY55i2QdH"
      },
      "execution_count": 9,
      "outputs": []
    },
    {
      "cell_type": "code",
      "source": [
        "for i, r in df.iterrows():\n",
        "\n",
        "    # 名前\n",
        "    pnt = kml.newpoint(name=r[\"名前\"])\n",
        "\n",
        "    # 座標\n",
        "    pnt.coords = [(r.longitude, r.latutude)]\n",
        "\n",
        "    # IMGタグ作成・結合\n",
        "    tag = \"\".join([f'<img src=\"{img}\" />' for img in r[\"gx_media_links\"].split()])\n",
        "\n",
        "    pnt.description = rf\"<![CDATA[{tag}]]>\"\n",
        "\n",
        "    ex_data = simplekml.ExtendedData()\n",
        "\n",
        "    # 一覧表示に不要な列を削除\n",
        "    r.drop(labels=[\"latutude\", \"longitude\", \"gx_media_links\"], inplace=True)\n",
        "\n",
        "    for n, v in r.items():\n",
        "\n",
        "        ex_data.newdata(name=str(n), value=rf'<![CDATA[{str(v)}]]>')\n",
        "\n",
        "    pnt.extendeddata = ex_data"
      ],
      "metadata": {
        "id": "KDF0eqgywvDo"
      },
      "execution_count": 10,
      "outputs": []
    },
    {
      "cell_type": "code",
      "source": [
        "kml.save(\"rakuten.kml\")"
      ],
      "metadata": {
        "id": "2id7Y6tb2SKY"
      },
      "execution_count": 11,
      "outputs": []
    },
    {
      "cell_type": "markdown",
      "source": [
        "# ダウンロード"
      ],
      "metadata": {
        "id": "9etjoJBo7IPU"
      }
    },
    {
      "cell_type": "code",
      "source": [
        "from google.colab import files"
      ],
      "metadata": {
        "id": "kcEOerla7Gqw"
      },
      "execution_count": 12,
      "outputs": []
    },
    {
      "cell_type": "code",
      "source": [
        "files.download(\"rakuten.kml\")"
      ],
      "metadata": {
        "colab": {
          "base_uri": "https://localhost:8080/",
          "height": 17
        },
        "id": "uJGsPbdf7Eoc",
        "outputId": "c7dc0473-ac90-49b3-898b-2074ef55b740"
      },
      "execution_count": 13,
      "outputs": [
        {
          "output_type": "display_data",
          "data": {
            "text/plain": [
              "<IPython.core.display.Javascript object>"
            ],
            "application/javascript": [
              "\n",
              "    async function download(id, filename, size) {\n",
              "      if (!google.colab.kernel.accessAllowed) {\n",
              "        return;\n",
              "      }\n",
              "      const div = document.createElement('div');\n",
              "      const label = document.createElement('label');\n",
              "      label.textContent = `Downloading \"${filename}\": `;\n",
              "      div.appendChild(label);\n",
              "      const progress = document.createElement('progress');\n",
              "      progress.max = size;\n",
              "      div.appendChild(progress);\n",
              "      document.body.appendChild(div);\n",
              "\n",
              "      const buffers = [];\n",
              "      let downloaded = 0;\n",
              "\n",
              "      const channel = await google.colab.kernel.comms.open(id);\n",
              "      // Send a message to notify the kernel that we're ready.\n",
              "      channel.send({})\n",
              "\n",
              "      for await (const message of channel.messages) {\n",
              "        // Send a message to notify the kernel that we're ready.\n",
              "        channel.send({})\n",
              "        if (message.buffers) {\n",
              "          for (const buffer of message.buffers) {\n",
              "            buffers.push(buffer);\n",
              "            downloaded += buffer.byteLength;\n",
              "            progress.value = downloaded;\n",
              "          }\n",
              "        }\n",
              "      }\n",
              "      const blob = new Blob(buffers, {type: 'application/binary'});\n",
              "      const a = document.createElement('a');\n",
              "      a.href = window.URL.createObjectURL(blob);\n",
              "      a.download = filename;\n",
              "      div.appendChild(a);\n",
              "      a.click();\n",
              "      div.remove();\n",
              "    }\n",
              "  "
            ]
          },
          "metadata": {}
        },
        {
          "output_type": "display_data",
          "data": {
            "text/plain": [
              "<IPython.core.display.Javascript object>"
            ],
            "application/javascript": [
              "download(\"download_48d68cee-1a29-4d35-9467-6dc3b643e194\", \"rakuten.kml\", 1682209)"
            ]
          },
          "metadata": {}
        }
      ]
    }
  ]
}
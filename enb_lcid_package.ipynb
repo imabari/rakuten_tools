{
  "nbformat": 4,
  "nbformat_minor": 0,
  "metadata": {
    "colab": {
      "provenance": [],
      "authorship_tag": "ABX9TyMQLqsdHm8zhi4BijmWFcM/",
      "include_colab_link": true
    },
    "kernelspec": {
      "name": "python3",
      "display_name": "Python 3"
    },
    "language_info": {
      "name": "python"
    }
  },
  "cells": [
    {
      "cell_type": "markdown",
      "metadata": {
        "id": "view-in-github",
        "colab_type": "text"
      },
      "source": [
        "<a href=\"https://colab.research.google.com/github/imabari/rakuten_tools/blob/main/enb_lcid_package.ipynb\" target=\"_parent\"><img src=\"https://colab.research.google.com/assets/colab-badge.svg\" alt=\"Open In Colab\"/></a>"
      ]
    },
    {
      "cell_type": "markdown",
      "source": [
        "# TowerCollectorのCSVを選択"
      ],
      "metadata": {
        "id": "CYSD4Edo5zsE"
      }
    },
    {
      "cell_type": "code",
      "source": [
        "from google.colab import files\n",
        "\n",
        "uploaded = files.upload()\n",
        "\n",
        "for fn in uploaded.keys():\n",
        "  print('User uploaded file \"{name}\" with length {length} bytes'.format(\n",
        "      name=fn, length=len(uploaded[fn])))"
      ],
      "metadata": {
        "id": "gwmhcigPzCwe"
      },
      "execution_count": null,
      "outputs": []
    },
    {
      "cell_type": "code",
      "source": [
        "import io\n",
        "import pandas as pd"
      ],
      "metadata": {
        "id": "chsShLKEziuw"
      },
      "execution_count": null,
      "outputs": []
    },
    {
      "cell_type": "code",
      "source": [
        "pd.set_option(\"display.max_columns\", None)"
      ],
      "metadata": {
        "id": "zYAis0sL0DiH"
      },
      "execution_count": null,
      "outputs": []
    },
    {
      "cell_type": "code",
      "source": [
        "df0 = (\n",
        "    pd.read_csv(fn, parse_dates=[\"measured_at\"])\n",
        "    .query(\"mcc == 440 & mnc == 11 & ta < 5 & (188743680 <= cell_id < 192937984)\")\n",
        "    .dropna(how=\"all\", axis=1)\n",
        "    .sort_values(by=[\"cell_id\", \"rsrp\"])\n",
        "    .drop_duplicates(subset=[\"cell_id\"])\n",
        "    .reset_index(drop=True)\n",
        ")\n",
        "df0"
      ],
      "metadata": {
        "id": "wvElcLQDy9VK"
      },
      "execution_count": null,
      "outputs": []
    },
    {
      "cell_type": "code",
      "source": [
        "df0[\"eNB-LCID\"] = df0[\"short_cell_id\"].astype(str).str.cat(df0[\"rnc\"].astype(str), sep=\"-\")"
      ],
      "metadata": {
        "id": "oA1kvnfJzuDf"
      },
      "execution_count": null,
      "outputs": []
    },
    {
      "cell_type": "code",
      "source": [
        "print(df0[[\"eNB-LCID\", \"psc\"]].to_csv(index=False, header=False))"
      ],
      "metadata": {
        "id": "vWcEbhBK3ECH"
      },
      "execution_count": null,
      "outputs": []
    },
    {
      "cell_type": "markdown",
      "source": [
        "# 範囲をコピペしてから「以降のセルを実行」"
      ],
      "metadata": {
        "id": "wwCnN8gs5N_0"
      }
    },
    {
      "cell_type": "code",
      "source": [
        "s = \"\"\"\n",
        "737451-1,80\n",
        "737451-2,124\n",
        "737451-3,3\n",
        "\"\"\""
      ],
      "metadata": {
        "id": "J62ZXznau7M-"
      },
      "execution_count": null,
      "outputs": []
    },
    {
      "cell_type": "code",
      "source": [
        "df1 = pd.read_csv(io.StringIO(s), names=[\"eNB-LCID\", \"PCI\"], dtype=str)\n",
        "df1"
      ],
      "metadata": {
        "id": "3YJvZ04JuHaO"
      },
      "execution_count": null,
      "outputs": []
    },
    {
      "cell_type": "code",
      "source": [
        "# eNBとLCIDに分割\n",
        "df1[[\"eNB\", \"LCID\"]] = df1[\"eNB-LCID\"].str.split(\"-\", expand=True)\n",
        "\n",
        "# LCIDとPCIを結合\n",
        "df2 = df1.groupby(\"eNB\")[[\"LCID\", \"PCI\"]].agg(lambda x: \",\".join(x)).reset_index()\n",
        "\n",
        "# eNBとLCIDを結合\n",
        "df2[\"eNB-LCID\"] = df2[\"eNB\"].str.cat(df2[\"LCID\"], sep=\"-\")"
      ],
      "metadata": {
        "id": "GOubB5nDv5oM"
      },
      "execution_count": null,
      "outputs": []
    },
    {
      "cell_type": "code",
      "source": [
        "# eNB-LCIDとPCIのみ\n",
        "df3 = df2.reindex(columns=[\"eNB-LCID\", \"PCI\"])\n",
        "df3"
      ],
      "metadata": {
        "id": "Fxc5TdaHwxdi"
      },
      "execution_count": null,
      "outputs": []
    },
    {
      "cell_type": "code",
      "source": [
        "# 表示\n",
        "for i, r in df3.iterrows():\n",
        "    print(r[\"eNB-LCID\"])\n",
        "    print(r[\"PCI\"])\n",
        "    print(\"-\" * 20)"
      ],
      "metadata": {
        "id": "yqcxalRtyPXy"
      },
      "execution_count": null,
      "outputs": []
    }
  ]
}
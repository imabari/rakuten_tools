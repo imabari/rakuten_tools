{
  "nbformat": 4,
  "nbformat_minor": 0,
  "metadata": {
    "colab": {
      "name": "rakuten_tower-ta-diff.ipynb",
      "provenance": [],
      "authorship_tag": "ABX9TyNeG7JikUTbckC17zcNIF87",
      "include_colab_link": true
    },
    "kernelspec": {
      "name": "python3",
      "display_name": "Python 3"
    },
    "language_info": {
      "name": "python"
    }
  },
  "cells": [
    {
      "cell_type": "markdown",
      "metadata": {
        "id": "view-in-github",
        "colab_type": "text"
      },
      "source": [
        "<a href=\"https://colab.research.google.com/github/imabari/rakuten_tools/blob/main/rakuten_tower_ta_diff.ipynb\" target=\"_parent\"><img src=\"https://colab.research.google.com/assets/colab-badge.svg\" alt=\"Open In Colab\"/></a>"
      ]
    },
    {
      "cell_type": "code",
      "execution_count": null,
      "metadata": {
        "id": "2NsqZd0BEppq"
      },
      "outputs": [],
      "source": [
        "import pandas as pd"
      ]
    },
    {
      "cell_type": "code",
      "source": [
        "from google.colab import files\n",
        "\n",
        "uploaded = files.upload()\n",
        "\n",
        "for fn in uploaded.keys():\n",
        "  print('User uploaded file \"{name}\" with length {length} bytes'.format(\n",
        "      name=fn, length=len(uploaded[fn])))"
      ],
      "metadata": {
        "id": "LAWmQi2ONZ91"
      },
      "execution_count": null,
      "outputs": []
    },
    {
      "cell_type": "code",
      "source": [
        "df0 = pd.read_csv(fn, parse_dates=[\"measured_at\"]).dropna(how=\"all\", axis=1)\n",
        "df0"
      ],
      "metadata": {
        "id": "8Zl70XchE494"
      },
      "execution_count": null,
      "outputs": []
    },
    {
      "cell_type": "code",
      "source": [
        "# バンド指定\n",
        "df1 = df0.query(\"mcc == 440 & mnc == 11 & net_type == 'LTE'\").copy()\n",
        "df1"
      ],
      "metadata": {
        "id": "ROlHju5JFUJW"
      },
      "execution_count": null,
      "outputs": []
    },
    {
      "cell_type": "code",
      "source": [
        "# 日時変換\n",
        "df1[\"measured_at\"] = df1[\"measured_at\"].dt.tz_convert(\"Asia/Tokyo\").dt.tz_localize(None)"
      ],
      "metadata": {
        "id": "88Q3F3qKFWBm"
      },
      "execution_count": null,
      "outputs": []
    },
    {
      "cell_type": "code",
      "source": [
        "# 1行ずらす\n",
        "df1[\"ta_before\"] = df1[\"ta\"].shift(1)\n",
        "df1[\"dt_before\"] = df1[\"measured_at\"].shift(1)"
      ],
      "metadata": {
        "id": "1fgqSKU6F8Bn"
      },
      "execution_count": null,
      "outputs": []
    },
    {
      "cell_type": "code",
      "source": [
        "# 時間差分の秒数\n",
        "df1[\"time\"] = (df1[\"measured_at\"] - df1[\"dt_before\"]).dt.total_seconds()"
      ],
      "metadata": {
        "id": "VDhzhGQcHATN"
      },
      "execution_count": null,
      "outputs": []
    },
    {
      "cell_type": "code",
      "source": [
        "# セル変異を抽出\n",
        "df2 = df1.loc[df1[\"cell_id\"] != df1[\"cell_id\"].shift(1), [\"cell_id\", \"time\", \"ta\", \"ta_before\"]]"
      ],
      "metadata": {
        "id": "Jk9HVZz_FWGF"
      },
      "execution_count": null,
      "outputs": []
    },
    {
      "cell_type": "code",
      "source": [
        "df2.shape"
      ],
      "metadata": {
        "id": "VOXi_rUgJA21"
      },
      "execution_count": null,
      "outputs": []
    },
    {
      "cell_type": "code",
      "source": [
        "# 欠損除去\n",
        "df3 = df2.dropna(how=\"any\")"
      ],
      "metadata": {
        "id": "6zJdbhF7IO8m"
      },
      "execution_count": null,
      "outputs": []
    },
    {
      "cell_type": "code",
      "source": [
        "df3.shape"
      ],
      "metadata": {
        "id": "29_FCUPAFWI1"
      },
      "execution_count": null,
      "outputs": []
    },
    {
      "cell_type": "code",
      "source": [
        "df3"
      ],
      "metadata": {
        "id": "sc4su4wgFWRV"
      },
      "execution_count": null,
      "outputs": []
    },
    {
      "cell_type": "code",
      "source": [
        "# 同じ\n",
        "(df3[\"ta\"] == df3[\"ta_before\"]).sum()"
      ],
      "metadata": {
        "id": "2Zk30wl4FWL0"
      },
      "execution_count": null,
      "outputs": []
    },
    {
      "cell_type": "code",
      "source": [
        "# 違う\n",
        "(df3[\"ta\"] != df3[\"ta_before\"]).sum()"
      ],
      "metadata": {
        "id": "D34DYERMFWOd"
      },
      "execution_count": null,
      "outputs": []
    },
    {
      "cell_type": "code",
      "source": [
        "1# TAが違うものを抽出\n",
        "df4 = df3[df3[\"ta\"] != df3[\"ta_before\"]]"
      ],
      "metadata": {
        "id": "d9oplKIFJK8X"
      },
      "execution_count": null,
      "outputs": []
    },
    {
      "cell_type": "code",
      "source": [
        "# グラフ表示\n",
        "df4[\"time\"].round(1).value_counts().sort_index().plot.bar(figsize=(20,5))"
      ],
      "metadata": {
        "id": "owDX0lXhFWUA"
      },
      "execution_count": null,
      "outputs": []
    }
  ]
}
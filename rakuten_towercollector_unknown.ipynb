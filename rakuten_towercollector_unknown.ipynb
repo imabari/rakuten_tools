{
  "nbformat": 4,
  "nbformat_minor": 0,
  "metadata": {
    "colab": {
      "provenance": [],
      "include_colab_link": true
    },
    "kernelspec": {
      "name": "python3",
      "display_name": "Python 3"
    },
    "language_info": {
      "name": "python"
    }
  },
  "cells": [
    {
      "cell_type": "markdown",
      "metadata": {
        "id": "view-in-github",
        "colab_type": "text"
      },
      "source": [
        "<a href=\"https://colab.research.google.com/github/imabari/rakuten_tools/blob/main/rakuten_towercollector_unknown.ipynb\" target=\"_parent\"><img src=\"https://colab.research.google.com/assets/colab-badge.svg\" alt=\"Open In Colab\"/></a>"
      ]
    },
    {
      "cell_type": "markdown",
      "metadata": {
        "id": "skDZdmw5ZW53"
      },
      "source": [
        "# アップロード"
      ]
    },
    {
      "cell_type": "code",
      "metadata": {
        "id": "iDkMNsniXZeS"
      },
      "source": [
        "from google.colab import files\n",
        "\n",
        "uploaded = files.upload()\n",
        "\n",
        "for fn in uploaded.keys():\n",
        "    print('User uploaded file \"{name}\" with length {length} bytes'.format(\n",
        "        name=fn, length=len(uploaded[fn])))"
      ],
      "execution_count": null,
      "outputs": []
    },
    {
      "cell_type": "markdown",
      "metadata": {
        "id": "W0lmTElsZbhv"
      },
      "source": [
        "# プログラム"
      ]
    },
    {
      "cell_type": "code",
      "metadata": {
        "id": "AGc-BzrzOftx"
      },
      "source": [
        "import pandas as pd"
      ],
      "execution_count": null,
      "outputs": []
    },
    {
      "cell_type": "code",
      "metadata": {
        "id": "UCPMWjsXN16J"
      },
      "source": [
        "df0 = pd.read_csv(fn, parse_dates=[\"measured_at\"], dtype={\"ta\": str}).dropna(how=\"all\", axis=1)"
      ],
      "execution_count": null,
      "outputs": []
    },
    {
      "cell_type": "code",
      "metadata": {
        "id": "q0JOy5H0AQE6"
      },
      "source": [
        "df0.dtypes"
      ],
      "execution_count": null,
      "outputs": []
    },
    {
      "cell_type": "code",
      "metadata": {
        "id": "FR766gWj_g1g"
      },
      "source": [
        "df0"
      ],
      "execution_count": null,
      "outputs": []
    },
    {
      "cell_type": "code",
      "metadata": {
        "id": "TWRBeMzWWA5X"
      },
      "source": [
        "# 日時変換\n",
        "df0[\"measured_at\"] = df0[\"measured_at\"].dt.tz_convert(\"Asia/Tokyo\").dt.tz_localize(None)"
      ],
      "execution_count": null,
      "outputs": []
    },
    {
      "cell_type": "code",
      "source": [
        "df0[\"ta\"] = df0[\"ta\"].fillna(\"-\")"
      ],
      "metadata": {
        "id": "qzzZjEMVLIaZ"
      },
      "execution_count": null,
      "outputs": []
    },
    {
      "cell_type": "code",
      "source": [
        "df0.dropna(how=\"any\", subset=[\"short_cell_id\", \"rnc\"], inplace=True)"
      ],
      "metadata": {
        "id": "nj-rzBeryLGH"
      },
      "execution_count": null,
      "outputs": []
    },
    {
      "cell_type": "code",
      "metadata": {
        "id": "MhajM0CkOoZI"
      },
      "source": [
        "# バンド指定\n",
        "df1 = df0.query(\"mcc == 440 & mnc == 11\").copy()\n",
        "df1"
      ],
      "execution_count": null,
      "outputs": []
    },
    {
      "cell_type": "code",
      "source": [
        "df1[\"short_cell_id\"] = df1[\"short_cell_id\"].astype(int)\n",
        "df1[\"rnc\"] = df1[\"rnc\"].astype(int)"
      ],
      "metadata": {
        "id": "ACBckZlhxep2"
      },
      "execution_count": null,
      "outputs": []
    },
    {
      "cell_type": "code",
      "metadata": {
        "id": "ttrAfVk09cQZ"
      },
      "source": [
        "df1[\"id\"] = df1[\"short_cell_id\"].astype(str) + \"-\" + df1[\"rnc\"].astype(str)"
      ],
      "execution_count": null,
      "outputs": []
    },
    {
      "cell_type": "code",
      "metadata": {
        "id": "tvSPPui1QOXZ"
      },
      "source": [
        "df2 = df1.groupby([\"short_cell_id\", \"rnc\"])[\"dbm\"].max().reset_index()\n",
        "df2"
      ],
      "execution_count": null,
      "outputs": []
    },
    {
      "cell_type": "code",
      "metadata": {
        "id": "vb5ZOoKxVvQP"
      },
      "source": [
        "df3 = pd.merge(df1, df2)"
      ],
      "execution_count": null,
      "outputs": []
    },
    {
      "cell_type": "code",
      "metadata": {
        "id": "ywU-tfNa9Ikh"
      },
      "source": [
        "df_pci = df3.drop_duplicates(subset=[\"short_cell_id\", \"rnc\"]).loc[:, [\"short_cell_id\", \"rnc\", \"psc\"]]\n",
        "df_pci.sort_values([\"short_cell_id\", \"rnc\"], inplace=True)\n",
        "df_pci.to_csv(\"pci.csv\", index=False)"
      ],
      "execution_count": null,
      "outputs": []
    },
    {
      "cell_type": "code",
      "metadata": {
        "id": "Lw1hym1akfwo"
      },
      "source": [
        "df3"
      ],
      "execution_count": null,
      "outputs": []
    },
    {
      "cell_type": "markdown",
      "metadata": {
        "id": "96ZGFBCXYLwf"
      },
      "source": [
        "# 地図"
      ]
    },
    {
      "cell_type": "code",
      "metadata": {
        "id": "zGgN3jgycUgA"
      },
      "source": [
        "import folium\n",
        "from folium.features import DivIcon"
      ],
      "execution_count": null,
      "outputs": []
    },
    {
      "cell_type": "code",
      "metadata": {
        "id": "3EI46vawglPO"
      },
      "source": [
        "colors = [\n",
        "    \"black\",\n",
        "    \"red\",\n",
        "    \"green\",\n",
        "    \"blue\",\n",
        "    \"darkred\",\n",
        "    \"darkgreen\",\n",
        "    \"darkblue\",\n",
        "    \"lightred\",\n",
        "    \"lightgreen\",\n",
        "    \"lightblue\",\n",
        "    \"pink\",\n",
        "    \"orange\",\n",
        "    \"cadetblue\",\n",
        "    \"beige\",\n",
        "    \"gray\",    \n",
        "    \"darkpurple\",\n",
        "    \"lightgray\",\n",
        "    \"white\",\n",
        "]"
      ],
      "execution_count": null,
      "outputs": []
    },
    {
      "cell_type": "code",
      "metadata": {
        "id": "EKTGGQN88eWi"
      },
      "source": [
        "def map_make(df):\n",
        "\n",
        "    lat = df[\"lat\"].mean()\n",
        "    lon = df[\"lon\"].mean()\n",
        "\n",
        "    # map = folium.Map(location=[lat, lon], zoom_start=14)\n",
        "\n",
        "    map = folium.Map(tiles = None, location=[lat, lon], zoom_start=14)\n",
        "\n",
        "    # Googleマップ標準\n",
        "    folium.raster_layers.TileLayer(\n",
        "        'https://{s}.google.com/vt/lyrs=m&x={x}&y={y}&z={z}',\n",
        "        subdomains = ['mt0','mt1','mt2','mt3'],\n",
        "        name = \"Google Map\",\n",
        "        attr = \"<a href='https://developers.google.com/maps/documentation' target='_blank'>Google Map</a>\"\n",
        "    ).add_to(map)\n",
        "\n",
        "\n",
        "    for i, r in df.iterrows():\n",
        "\n",
        "        cid = r[\"rnc\"] if r[\"rnc\"] < 19 else 0\n",
        "\n",
        "        folium.CircleMarker(\n",
        "            location=[r.lat, r.lon],\n",
        "            radius=10,\n",
        "            color=colors[cid],\n",
        "            fill=True,\n",
        "            tooltip=r[\"id\"],\n",
        "        ).add_to(map)\n",
        "\n",
        "        folium.Marker(\n",
        "            location=[r.lat, r.lon],\n",
        "            icon=DivIcon(\n",
        "                icon_size=(20, 20),\n",
        "                icon_anchor=(10, 10),\n",
        "                html=f'<div style=\"text-align:center; font-size: 12pt; font-weight: bold\">{r[\"ta\"]}</div>',\n",
        "            ),\n",
        "            tooltip=f'{r[\"id\"]} TA:{r[\"ta\"]}',\n",
        "        ).add_to(map)\n",
        "\n",
        "    return map"
      ],
      "execution_count": null,
      "outputs": []
    },
    {
      "cell_type": "code",
      "metadata": {
        "id": "0Z-atFL0ryIB"
      },
      "source": [
        "df1"
      ],
      "execution_count": null,
      "outputs": []
    },
    {
      "cell_type": "markdown",
      "source": [
        "# 全部"
      ],
      "metadata": {
        "id": "ny20JqvdE1KX"
      }
    },
    {
      "cell_type": "code",
      "metadata": {
        "id": "jWtvqxl_rgzc"
      },
      "source": [
        "map0 = map_make(df1)\n",
        "map0"
      ],
      "execution_count": null,
      "outputs": []
    },
    {
      "cell_type": "code",
      "metadata": {
        "id": "jQvq5PjnsVZx"
      },
      "source": [
        "map0.save(\"map0.html\")"
      ],
      "execution_count": null,
      "outputs": []
    },
    {
      "cell_type": "markdown",
      "source": [
        "# 最良値"
      ],
      "metadata": {
        "id": "2SAovrU6E5mR"
      }
    },
    {
      "cell_type": "code",
      "metadata": {
        "id": "ZeM37h1yYWlv"
      },
      "source": [
        "map1 = map_make(df3)\n",
        "map1"
      ],
      "execution_count": null,
      "outputs": []
    },
    {
      "cell_type": "code",
      "metadata": {
        "id": "2xUoFTZ228zc"
      },
      "source": [
        "map1.save(\"map1.html\")"
      ],
      "execution_count": null,
      "outputs": []
    },
    {
      "cell_type": "markdown",
      "metadata": {
        "id": "rDS_ZhW05gEa"
      },
      "source": [
        "# 未発見"
      ]
    },
    {
      "cell_type": "code",
      "metadata": {
        "id": "gwLM08bE6Sc6"
      },
      "source": [
        "# スプレッドシートのURL\n",
        "csv_url = \"https://raku10ehime.github.io/map/ehime.csv\""
      ],
      "execution_count": null,
      "outputs": []
    },
    {
      "cell_type": "code",
      "metadata": {
        "id": "0dT25JUM6T1a"
      },
      "source": [
        "df4 = pd.read_csv(csv_url, index_col=0).dropna(subset=[\"eNB-LCID\"])\n",
        "df4"
      ],
      "execution_count": null,
      "outputs": []
    },
    {
      "cell_type": "code",
      "source": [
        "df4[\"eNB-LCID\"] = df4[\"eNB-LCID\"].str.split(\"\\n\")\n",
        "df5 = df4.explode(\"eNB-LCID\")"
      ],
      "metadata": {
        "id": "Wk_NqWp5TjZQ"
      },
      "execution_count": null,
      "outputs": []
    },
    {
      "cell_type": "code",
      "metadata": {
        "id": "GzRkkRrp6yyZ"
      },
      "source": [
        "df5[[\"eNB\", \"LCID\"]] = df5[\"eNB-LCID\"].str.split(\"-\", expand=True)"
      ],
      "execution_count": null,
      "outputs": []
    },
    {
      "cell_type": "code",
      "metadata": {
        "id": "V975oTXo7W-Z"
      },
      "source": [
        "df5[\"LCID\"] = df5[\"LCID\"].str.split(\",\")"
      ],
      "execution_count": null,
      "outputs": []
    },
    {
      "cell_type": "code",
      "metadata": {
        "id": "dkm40Xga7e8D"
      },
      "source": [
        "df6 = df5.explode(\"LCID\")\n",
        "df6[\"id\"] = df6[\"eNB\"] + \"-\" + df6[\"LCID\"]\n",
        "df6"
      ],
      "execution_count": null,
      "outputs": []
    },
    {
      "cell_type": "code",
      "metadata": {
        "id": "c_i9ub5O8CTE"
      },
      "source": [
        "df7 = df3[~df3[\"id\"].isin(df6[\"id\"])]\n",
        "df7"
      ],
      "execution_count": null,
      "outputs": []
    },
    {
      "cell_type": "code",
      "source": [
        "print(df7.reindex(columns=[\"lat\", \"lon\", \"ta\"]).to_csv(index=None, header=None))"
      ],
      "metadata": {
        "id": "C435m_w4I0wi"
      },
      "execution_count": null,
      "outputs": []
    },
    {
      "cell_type": "markdown",
      "source": [
        "## PCI"
      ],
      "metadata": {
        "id": "VhPBxqKbFVZh"
      }
    },
    {
      "cell_type": "code",
      "source": [
        "print(df7.sort_values(by=\"ta\").drop_duplicates(subset=\"id\").sort_values(by=\"cell_id\").reindex(columns=[\"id\", \"psc\"]).to_csv(index=None, header=None))"
      ],
      "metadata": {
        "id": "LuRRb3iPZfZL"
      },
      "execution_count": null,
      "outputs": []
    },
    {
      "cell_type": "code",
      "source": [
        "df7.to_csv(\"unknown.tsv\", sep=\"\\t\")"
      ],
      "metadata": {
        "id": "-lnQSRO9G3l1"
      },
      "execution_count": null,
      "outputs": []
    },
    {
      "cell_type": "code",
      "metadata": {
        "id": "jVYmEB72-4Sb"
      },
      "source": [
        "if len(df7) > 0:\n",
        "    map2 = map_make(df7)\n",
        "\n",
        "else:\n",
        "    print(\"データなし\")"
      ],
      "execution_count": null,
      "outputs": []
    },
    {
      "cell_type": "code",
      "metadata": {
        "id": "PyEL3PxC_VmY"
      },
      "source": [
        "map2"
      ],
      "execution_count": null,
      "outputs": []
    },
    {
      "cell_type": "code",
      "metadata": {
        "id": "Gx_dorcxa61A"
      },
      "source": [
        "map2.save(\"map2.html\")"
      ],
      "execution_count": null,
      "outputs": []
    }
  ]
}
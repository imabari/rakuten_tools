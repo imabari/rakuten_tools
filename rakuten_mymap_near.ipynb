{
  "nbformat": 4,
  "nbformat_minor": 0,
  "metadata": {
    "colab": {
      "provenance": [],
      "include_colab_link": true
    },
    "kernelspec": {
      "name": "python3",
      "display_name": "Python 3"
    },
    "language_info": {
      "name": "python"
    }
  },
  "cells": [
    {
      "cell_type": "markdown",
      "metadata": {
        "id": "view-in-github",
        "colab_type": "text"
      },
      "source": [
        "<a href=\"https://colab.research.google.com/github/imabari/rakuten_tools/blob/main/rakuten_mymap_near.ipynb\" target=\"_parent\"><img src=\"https://colab.research.google.com/assets/colab-badge.svg\" alt=\"Open In Colab\"/></a>"
      ]
    },
    {
      "cell_type": "markdown",
      "source": [
        "\n",
        "# 実行方法\n",
        "\n",
        "1. 上の「Open in Colab」をクリック（Googleアカウント必要）\n",
        "2. 設定にマイマップのmidを貼り付け\n",
        "3. 上部メニューより「ランタイム」を選択\n",
        "4. 「すべてのセルを実行」を選択\n",
        "5. アップロードのところで停止するので参照を押してTowerCollectorのファイルを指定"
      ],
      "metadata": {
        "id": "Bbc8JVcAI3iQ"
      }
    },
    {
      "cell_type": "markdown",
      "source": [
        "# 設定"
      ],
      "metadata": {
        "id": "zQ99oBP1LF_t"
      }
    },
    {
      "cell_type": "code",
      "metadata": {
        "id": "gwLM08bE6Sc6"
      },
      "source": [
        "# マイマップのmid\n",
        "mid = \"152eagLReFE8oDs_thOuVxxXSx8IhegsS\"\n",
        "lid = \"TPK-JtNO-wk\""
      ],
      "execution_count": null,
      "outputs": []
    },
    {
      "cell_type": "markdown",
      "metadata": {
        "id": "skDZdmw5ZW53"
      },
      "source": [
        "# アップロード"
      ]
    },
    {
      "cell_type": "code",
      "metadata": {
        "id": "iDkMNsniXZeS"
      },
      "source": [
        "from google.colab import files\n",
        "\n",
        "uploaded = files.upload()\n",
        "\n",
        "for fn in uploaded.keys():\n",
        "    print('User uploaded file \"{name}\" with length {length} bytes'.format(\n",
        "        name=fn, length=len(uploaded[fn])))"
      ],
      "execution_count": null,
      "outputs": []
    },
    {
      "cell_type": "code",
      "source": [
        "!pip install geopandas"
      ],
      "metadata": {
        "id": "VuLV4T3O5p2L"
      },
      "execution_count": null,
      "outputs": []
    },
    {
      "cell_type": "code",
      "source": [
        "import zipfile"
      ],
      "metadata": {
        "id": "TOQ3DT4YGjqj"
      },
      "execution_count": null,
      "outputs": []
    },
    {
      "cell_type": "code",
      "source": [
        "import requests\n",
        "import pandas as pd\n",
        "import geopandas as gpd\n",
        "from lxml import etree"
      ],
      "metadata": {
        "id": "2iav64M8Ghz6"
      },
      "execution_count": null,
      "outputs": []
    },
    {
      "cell_type": "markdown",
      "source": [
        "# マイマップ"
      ],
      "metadata": {
        "id": "xFeY4f3SH71p"
      }
    },
    {
      "cell_type": "code",
      "source": [
        "url = f\"https://www.google.com/maps/d/kml?mid={mid}&lid={lid}\""
      ],
      "metadata": {
        "id": "_GTjro-KGMgE"
      },
      "execution_count": null,
      "outputs": []
    },
    {
      "cell_type": "code",
      "source": [
        "!wget \"$url\" -O rakuten.kmz"
      ],
      "metadata": {
        "id": "7966xl7HGsUD"
      },
      "execution_count": null,
      "outputs": []
    },
    {
      "cell_type": "code",
      "source": [
        "with zipfile.ZipFile(\"rakuten.kmz\") as existing_zip:\n",
        "    existing_zip.extractall(\"kmz\")"
      ],
      "metadata": {
        "id": "Zueu9dYSGMjF"
      },
      "execution_count": null,
      "outputs": []
    },
    {
      "cell_type": "code",
      "source": [
        "ns = {\"kml\": \"http://www.opengis.net/kml/2.2\"}\n",
        "tree = etree.parse(\"./kmz/doc.kml\")"
      ],
      "metadata": {
        "id": "fFKrglm_GMl8"
      },
      "execution_count": null,
      "outputs": []
    },
    {
      "cell_type": "code",
      "source": [
        "data = []\n",
        "\n",
        "for i in tree.xpath(\"//kml:Placemark\", namespaces=ns):\n",
        "\n",
        "    d = {}\n",
        "\n",
        "    d[\"場所\"] = \"\".join(i.xpath(\"./kml:name/text()\", namespaces=ns)).strip()\n",
        "    d[\"geometry\"] = \"\".join(\n",
        "        i.xpath(\"./kml:Point/kml:coordinates/text()\", namespaces=ns)\n",
        "    ).strip()\n",
        "\n",
        "    for j in i.xpath(\"./kml:ExtendedData/kml:Data\", namespaces=ns):\n",
        "\n",
        "        k = j.attrib[\"name\"].strip()\n",
        "        v = \"\".join(j.xpath(\"./kml:value/text()\", namespaces=ns)).strip()\n",
        "\n",
        "        d[k] = v\n",
        "\n",
        "    data.append(d)"
      ],
      "metadata": {
        "id": "BOYA7HLPGVYc"
      },
      "execution_count": null,
      "outputs": []
    },
    {
      "cell_type": "code",
      "source": [
        "df_map = pd.DataFrame(data)"
      ],
      "metadata": {
        "id": "smc1AlOPGVbL"
      },
      "execution_count": null,
      "outputs": []
    },
    {
      "cell_type": "code",
      "source": [
        "df_map[[\"経度\", \"緯度\", \"標高\"]] = df_map[\"geometry\"].str.split(\",\", expand=True)"
      ],
      "metadata": {
        "id": "G5bMC2Y9GVeN"
      },
      "execution_count": null,
      "outputs": []
    },
    {
      "cell_type": "code",
      "source": [
        "# 文字から数値に変換\n",
        "df_map[\"経度\"] = pd.to_numeric(df_map[\"経度\"])\n",
        "df_map[\"経度\"] = pd.to_numeric(df_map[\"経度\"])"
      ],
      "metadata": {
        "id": "2nOTdpINGVhK"
      },
      "execution_count": null,
      "outputs": []
    },
    {
      "cell_type": "code",
      "source": [
        "# 緯度・経度が欠損の場合は削除\n",
        "df_map.dropna(subset=[\"緯度\", \"経度\"], how=\"any\", inplace=True)\n",
        "df_map"
      ],
      "metadata": {
        "id": "IyYmm893HKMk"
      },
      "execution_count": null,
      "outputs": []
    },
    {
      "cell_type": "markdown",
      "metadata": {
        "id": "W0lmTElsZbhv"
      },
      "source": [
        "# プログラム"
      ]
    },
    {
      "cell_type": "code",
      "metadata": {
        "id": "AGc-BzrzOftx"
      },
      "source": [
        "import pandas as pd"
      ],
      "execution_count": null,
      "outputs": []
    },
    {
      "cell_type": "code",
      "metadata": {
        "id": "UCPMWjsXN16J"
      },
      "source": [
        "df0 = pd.read_csv(fn, parse_dates=[\"measured_at\"]).dropna(how=\"all\", axis=1).dropna(how=\"any\", subset=[\"cell_id\", \"psc\", \"ta\"]).astype({\"cell_id\": int, \"short_cell_id\": int, \"rnc\": int, \"ta\": int})\n",
        "df0"
      ],
      "execution_count": null,
      "outputs": []
    },
    {
      "cell_type": "code",
      "source": [
        "# 型確認\n",
        "df0.dtypes"
      ],
      "metadata": {
        "id": "XcJhdTMKtJWE"
      },
      "execution_count": null,
      "outputs": []
    },
    {
      "cell_type": "code",
      "metadata": {
        "id": "TWRBeMzWWA5X"
      },
      "source": [
        "# 日時変換\n",
        "df0[\"measured_at\"] = df0[\"measured_at\"].dt.tz_convert(\"Asia/Tokyo\").dt.tz_localize(None)"
      ],
      "execution_count": null,
      "outputs": []
    },
    {
      "cell_type": "code",
      "metadata": {
        "id": "MhajM0CkOoZI"
      },
      "source": [
        "# バンド指定\n",
        "df1 = df0.query(\"mcc == 440 & mnc == 11\").copy()\n",
        "df1"
      ],
      "execution_count": null,
      "outputs": []
    },
    {
      "cell_type": "code",
      "metadata": {
        "id": "ttrAfVk09cQZ"
      },
      "source": [
        "df1[\"id\"] = df1[\"short_cell_id\"].astype(str) + \"-\" + df1[\"rnc\"].astype(str)"
      ],
      "execution_count": null,
      "outputs": []
    },
    {
      "cell_type": "markdown",
      "source": [
        "# PCI確認"
      ],
      "metadata": {
        "id": "q7p_w9zanH3o"
      }
    },
    {
      "cell_type": "code",
      "metadata": {
        "id": "ywU-tfNa9Ikh"
      },
      "source": [
        "df_pci = df1.drop_duplicates(subset=[\"cell_id\"]).pivot(index=\"short_cell_id\", columns=\"rnc\", values=\"psc\").astype(\"Int64\")\n",
        "df_pci.fillna(0).astype(str).replace(\"0\", \"-\")"
      ],
      "execution_count": null,
      "outputs": []
    },
    {
      "cell_type": "code",
      "source": [
        "df_pci.to_csv(\"pci.csv\", encoding=\"utf_8_sig\")"
      ],
      "metadata": {
        "id": "T6qz8my8qHPB"
      },
      "execution_count": null,
      "outputs": []
    },
    {
      "cell_type": "markdown",
      "source": [
        "# 最良値を抽出"
      ],
      "metadata": {
        "id": "96O8XQJ1nAAo"
      }
    },
    {
      "cell_type": "code",
      "metadata": {
        "id": "tvSPPui1QOXZ"
      },
      "source": [
        "df2 = df1.groupby([\"cell_id\"])[\"dbm\"].max().reset_index()\n",
        "df2"
      ],
      "execution_count": null,
      "outputs": []
    },
    {
      "cell_type": "code",
      "metadata": {
        "id": "vb5ZOoKxVvQP"
      },
      "source": [
        "df3 = pd.merge(df1, df2)\n",
        "df3"
      ],
      "execution_count": null,
      "outputs": []
    },
    {
      "cell_type": "code",
      "source": [
        "import geopandas as gpd\n",
        "from shapely.geometry import Point"
      ],
      "metadata": {
        "id": "OoTjW-Qx5R9Y"
      },
      "execution_count": null,
      "outputs": []
    },
    {
      "cell_type": "code",
      "source": [
        "# 全部\n",
        "# geo_df = gpd.GeoDataFrame(df1, geometry=gpd.points_from_xy(df1.lon, df1.lat), crs=2446)"
      ],
      "metadata": {
        "id": "EAf6jlVCwhVw"
      },
      "execution_count": null,
      "outputs": []
    },
    {
      "cell_type": "code",
      "source": [
        "# 最良値のみ\n",
        "geo_df = gpd.GeoDataFrame(df3, geometry=gpd.points_from_xy(df3.lon, df3.lat), crs=2446)"
      ],
      "metadata": {
        "id": "kP9P1jp4wh9_"
      },
      "execution_count": null,
      "outputs": []
    },
    {
      "cell_type": "code",
      "source": [
        "geo_df"
      ],
      "metadata": {
        "id": "0RxrmawY5va_"
      },
      "execution_count": null,
      "outputs": []
    },
    {
      "cell_type": "code",
      "source": [
        "dfs = []\n",
        "\n",
        "for i, r in df_map.iterrows():\n",
        "    \n",
        "    point = Point(r[\"経度\"], r[\"緯度\"])\n",
        "\n",
        "    # 300mの範囲\n",
        "    buffer = point.buffer(0.003)\n",
        "\n",
        "    df_tmp = geo_df[geo_df.geometry.within(buffer)].copy()\n",
        "\n",
        "    if len(df_tmp) > 0:\n",
        "\n",
        "        df_tmp[\"grp\"] = i\n",
        "\n",
        "        df_tmp[\"場所\"] = r[\"場所\"]\n",
        "\n",
        "        df_tmp[\"距離\"] = df_tmp.geometry.apply(lambda x: round(x.distance(point) * 10000, 3))\n",
        "\n",
        "        dfs.append(df_tmp)\n"
      ],
      "metadata": {
        "id": "kwEQmiVC7d-C"
      },
      "execution_count": null,
      "outputs": []
    },
    {
      "cell_type": "code",
      "source": [
        "df4 = pd.concat(dfs).sort_values(by=[\"cell_id\", \"距離\"]).reset_index(drop=True)\n",
        "df4"
      ],
      "metadata": {
        "id": "Lia2Olh26Oxt"
      },
      "execution_count": null,
      "outputs": []
    },
    {
      "cell_type": "code",
      "source": [
        "# 重複除去\n",
        "df5 = df4.drop_duplicates(subset=\"cell_id\").copy()"
      ],
      "metadata": {
        "id": "c5geDMZGwrmI"
      },
      "execution_count": null,
      "outputs": []
    },
    {
      "cell_type": "code",
      "source": [
        "# 2つ以上を抽出、重複除去\n",
        "# df5 = df4.groupby(by=\"cell_id\").filter(lambda x: len(x) > 1).drop_duplicates(subset=\"cell_id\").copy()"
      ],
      "metadata": {
        "id": "pFFbChLQtLPd"
      },
      "execution_count": null,
      "outputs": []
    },
    {
      "cell_type": "code",
      "source": [
        "df5"
      ],
      "metadata": {
        "id": "-dRfUKsJwzOv"
      },
      "execution_count": null,
      "outputs": []
    },
    {
      "cell_type": "markdown",
      "source": [
        "# PCI確認"
      ],
      "metadata": {
        "id": "R7C-I0exLgVj"
      }
    },
    {
      "cell_type": "code",
      "source": [
        "df5.pivot(index=[\"grp\", \"場所\", \"short_cell_id\"], columns=[\"rnc\"], values=\"psc\").sort_index(level=2).fillna(0).astype(int).astype(str).replace(\"0\", \"-\")"
      ],
      "metadata": {
        "id": "9i1-65fW0Ve6"
      },
      "execution_count": null,
      "outputs": []
    },
    {
      "cell_type": "markdown",
      "source": [
        "# TA確認"
      ],
      "metadata": {
        "id": "_nOrb9xBLjKL"
      }
    },
    {
      "cell_type": "code",
      "source": [
        "df5.pivot(index=[\"grp\", \"場所\", \"short_cell_id\"], columns=\"rnc\", values=\"ta\").sort_index(level=2).fillna(999).astype(int).astype(str).replace(\"999\", \"-\")"
      ],
      "metadata": {
        "id": "vY3jTxabAevd"
      },
      "execution_count": null,
      "outputs": []
    },
    {
      "cell_type": "markdown",
      "source": [
        "# 距離確認"
      ],
      "metadata": {
        "id": "re7bAIIULlF0"
      }
    },
    {
      "cell_type": "code",
      "source": [
        "df5.pivot(index=[\"grp\", \"場所\", \"short_cell_id\"], columns=[\"rnc\"], values=\"距離\").sort_index(level=2).fillna(0).astype(str).replace(\"0\", \"-\")"
      ],
      "metadata": {
        "id": "vDJoCuSzDU6J"
      },
      "execution_count": null,
      "outputs": []
    }
  ]
}
{
  "cells": [
    {
      "cell_type": "markdown",
      "metadata": {
        "id": "view-in-github",
        "colab_type": "text"
      },
      "source": [
        "<a href=\"https://colab.research.google.com/github/imabari/rakuten_tools/blob/main/mymap_image_download.ipynb\" target=\"_parent\"><img src=\"https://colab.research.google.com/assets/colab-badge.svg\" alt=\"Open In Colab\"/></a>"
      ]
    },
    {
      "cell_type": "code",
      "execution_count": null,
      "metadata": {
        "id": "tNtG2MjOQKdO"
      },
      "outputs": [],
      "source": [
        "import zipfile"
      ]
    },
    {
      "cell_type": "code",
      "execution_count": null,
      "metadata": {
        "id": "kiJE_gPI2KCp"
      },
      "outputs": [],
      "source": [
        "import requests\n",
        "import pandas as pd\n",
        "from lxml import etree"
      ]
    },
    {
      "cell_type": "code",
      "execution_count": null,
      "metadata": {
        "id": "NUvwozFRrSQO"
      },
      "outputs": [],
      "source": [
        "import time"
      ]
    },
    {
      "cell_type": "code",
      "execution_count": null,
      "metadata": {
        "id": "R-D16aeLsao-"
      },
      "outputs": [],
      "source": [
        "import imghdr\n",
        "import io\n",
        "import pathlib"
      ]
    },
    {
      "cell_type": "markdown",
      "metadata": {
        "id": "phVxU2pFFCkU"
      },
      "source": [
        "# 設定"
      ]
    },
    {
      "cell_type": "code",
      "execution_count": null,
      "metadata": {
        "id": "KcqfsV3gvsVR"
      },
      "outputs": [],
      "source": [
        "# マイマップのmid\n",
        "mid = \"1j-z0M8cmRv3qcFgsHQYnY_hYHQRi58AZ\"\n",
        "lid = \"\""
      ]
    },
    {
      "cell_type": "markdown",
      "metadata": {
        "id": "XoIYX-VWFHoc"
      },
      "source": [
        "# マイマップからKMZをダウンロード"
      ]
    },
    {
      "cell_type": "code",
      "execution_count": null,
      "metadata": {
        "id": "S5wGtIOUvyXm"
      },
      "outputs": [],
      "source": [
        "url = f\"https://www.google.com/maps/d/kml?mid={mid}\" if lid == \"\" else f\"https://www.google.com/maps/d/kml?mid={mid}&lid={lid}\"\n",
        "url"
      ]
    },
    {
      "cell_type": "code",
      "execution_count": null,
      "metadata": {
        "id": "mEEkh0DOsL8P"
      },
      "outputs": [],
      "source": [
        "headers = {\n",
        "    \"User-Agent\": \"Mozilla/5.0 (Windows NT 10.0; WOW64; Trident/7.0; rv:11.0) like Gecko\"\n",
        "}"
      ]
    },
    {
      "cell_type": "code",
      "execution_count": null,
      "metadata": {
        "id": "dbfZFqZwRr20"
      },
      "outputs": [],
      "source": [
        "!wget \"$url\" -O rakuten.kmz"
      ]
    },
    {
      "cell_type": "markdown",
      "metadata": {
        "id": "v2QHD9x_D1YW"
      },
      "source": [
        "# KMZからCSV変換"
      ]
    },
    {
      "cell_type": "code",
      "execution_count": null,
      "metadata": {
        "id": "V-I2IKrGTHul"
      },
      "outputs": [],
      "source": [
        "with zipfile.ZipFile(\"rakuten.kmz\") as existing_zip:\n",
        "    existing_zip.extractall(\"kmz\")"
      ]
    },
    {
      "cell_type": "code",
      "execution_count": null,
      "metadata": {
        "id": "44hPRuKg20Og"
      },
      "outputs": [],
      "source": [
        "ns = {\"kml\": \"http://www.opengis.net/kml/2.2\"}\n",
        "tree = etree.parse(\"./kmz/doc.kml\")"
      ]
    },
    {
      "cell_type": "code",
      "execution_count": null,
      "metadata": {
        "id": "wwOD8oS29pIf"
      },
      "outputs": [],
      "source": [
        "data = []\n",
        "\n",
        "for i in tree.xpath(\"//kml:Placemark\", namespaces=ns):\n",
        "\n",
        "    d = {}\n",
        "\n",
        "    d[\"場所\"] = \"\".join(i.xpath(\"./kml:name/text()\", namespaces=ns)).strip()\n",
        "    d[\"geometry\"] = \"\".join(\n",
        "        i.xpath(\"./kml:Point/kml:coordinates/text()\", namespaces=ns)\n",
        "    ).strip()\n",
        "\n",
        "    for j in i.xpath(\"./kml:ExtendedData/kml:Data\", namespaces=ns):\n",
        "\n",
        "        k = j.attrib[\"name\"].strip()\n",
        "        v = \"\".join(j.xpath(\"./kml:value/text()\", namespaces=ns)).strip()\n",
        "\n",
        "        d[k] = v\n",
        "\n",
        "    data.append(d)"
      ]
    },
    {
      "cell_type": "code",
      "execution_count": null,
      "metadata": {
        "id": "HiuLbNWfhY1r"
      },
      "outputs": [],
      "source": [
        "df0 = pd.DataFrame(data)"
      ]
    },
    {
      "cell_type": "code",
      "execution_count": null,
      "metadata": {
        "id": "hWTKr8b4m1hi"
      },
      "outputs": [],
      "source": [
        "df0.shape"
      ]
    },
    {
      "cell_type": "code",
      "execution_count": null,
      "metadata": {
        "id": "st1OMipcmPox"
      },
      "outputs": [],
      "source": [
        "df0[[\"経度\", \"緯度\", \"標高\"]] = (\n",
        "    df0[\"geometry\"]\n",
        "    .str.split(\",\", expand=True)\n",
        ")"
      ]
    },
    {
      "cell_type": "code",
      "execution_count": null,
      "metadata": {
        "id": "teRUHGhhtet4"
      },
      "outputs": [],
      "source": [
        "# 文字から数値に変換\n",
        "df0[\"経度\"] = pd.to_numeric(df0[\"経度\"])\n",
        "df0[\"緯度\"] = pd.to_numeric(df0[\"緯度\"])"
      ]
    },
    {
      "cell_type": "code",
      "execution_count": null,
      "metadata": {
        "id": "tRgq412eheiO"
      },
      "outputs": [],
      "source": [
        "df0"
      ]
    },
    {
      "cell_type": "code",
      "execution_count": null,
      "metadata": {
        "id": "-ZBNEJUWcyaw"
      },
      "outputs": [],
      "source": [
        "df0[\"gx_media_links\"].isnull().sum()"
      ]
    },
    {
      "cell_type": "code",
      "execution_count": null,
      "metadata": {
        "id": "ztj6pqqtdH4o"
      },
      "outputs": [],
      "source": [
        "df1 = df0.dropna(subset=[\"gx_media_links\"]).dropna(subset=[\"緯度\", \"経度\"], how=\"any\").copy()"
      ]
    },
    {
      "cell_type": "code",
      "execution_count": null,
      "metadata": {
        "id": "pSDCPO3pi4vQ"
      },
      "outputs": [],
      "source": [
        "df1.to_csv(\"list.csv\", encoding=\"utf_8_sig\")"
      ]
    },
    {
      "cell_type": "code",
      "execution_count": null,
      "metadata": {
        "id": "PpF-udAPdzrg"
      },
      "outputs": [],
      "source": [
        "df2 = df1.loc[:, [\"場所\", \"gx_media_links\"]]"
      ]
    },
    {
      "cell_type": "code",
      "execution_count": null,
      "metadata": {
        "id": "dogiq1o6e98o"
      },
      "outputs": [],
      "source": [
        "df3 = df2[\"gx_media_links\"].str.split(expand=True)"
      ]
    },
    {
      "cell_type": "code",
      "execution_count": null,
      "metadata": {
        "id": "K1KODJsUjZHP"
      },
      "outputs": [],
      "source": [
        "df3.columns = df3.columns.map(lambda x: x+1)"
      ]
    },
    {
      "cell_type": "code",
      "execution_count": null,
      "metadata": {
        "id": "BEpp4e8jjXm3"
      },
      "outputs": [],
      "source": [
        "df3"
      ]
    },
    {
      "cell_type": "code",
      "execution_count": null,
      "metadata": {
        "id": "o18mXUkAjP2f"
      },
      "outputs": [],
      "source": [
        "df4 = df2.join(df3)"
      ]
    },
    {
      "cell_type": "code",
      "execution_count": null,
      "metadata": {
        "id": "z-ZOwDn4jsKP"
      },
      "outputs": [],
      "source": [
        "df4"
      ]
    },
    {
      "cell_type": "code",
      "execution_count": null,
      "metadata": {
        "id": "4R834VfJkScv"
      },
      "outputs": [],
      "source": [
        "df4.drop(\"gx_media_links\", axis=1, inplace=True)"
      ]
    },
    {
      "cell_type": "code",
      "execution_count": null,
      "metadata": {
        "id": "ClEdZge5jWiA"
      },
      "outputs": [],
      "source": [
        "df5 = df4.melt(id_vars=\"場所\").dropna(subset=[\"value\"])"
      ]
    },
    {
      "cell_type": "code",
      "execution_count": null,
      "metadata": {
        "id": "IyRdfh7emKnn"
      },
      "outputs": [],
      "source": [
        "df5"
      ]
    },
    {
      "cell_type": "code",
      "source": [
        "df5[\"value\"] = df5[\"value\"].str.replace(\"fife\", \"fife=s16383\")"
      ],
      "metadata": {
        "id": "HJ94tqqep8hJ"
      },
      "execution_count": null,
      "outputs": []
    },
    {
      "cell_type": "code",
      "execution_count": null,
      "metadata": {
        "id": "J6iGNiuvovZf"
      },
      "outputs": [],
      "source": [
        "df5[\"場所\"] = df5[\"場所\"].str.replace(\"【.+】\", \"\", regex=True).str.normalize(\"NFKC\")"
      ]
    },
    {
      "cell_type": "code",
      "execution_count": null,
      "metadata": {
        "id": "Urnh2BEqnz2X"
      },
      "outputs": [],
      "source": [
        "def fetch_file(url, filename, dir=\".\"):\n",
        "\n",
        "    r = requests.get(url, headers=headers)\n",
        "    r.raise_for_status()\n",
        "\n",
        "    # 画像種類判定\n",
        "    suffix = imghdr.what(io.BytesIO(r.content))\n",
        "\n",
        "    p = pathlib.Path(dir, filename)\n",
        "    p.parent.mkdir(parents=True, exist_ok=True)\n",
        "\n",
        "    # 拡張子指定\n",
        "    p_suffix =  p.with_suffix(f\".{suffix}\")\n",
        "\n",
        "    with p_suffix.open(mode=\"wb\") as fw:\n",
        "        fw.write(r.content)\n",
        "        \n",
        "    return p_suffix"
      ]
    },
    {
      "cell_type": "code",
      "execution_count": null,
      "metadata": {
        "id": "XlU4F_K2mbhv"
      },
      "outputs": [],
      "source": [
        "for i, row in df5.iterrows():\n",
        "\n",
        "    fetch_file(row[\"value\"], f'{row[\"場所\"]}_{row[\"variable\"]:02}', \"download\")\n",
        "\n",
        "    time.sleep(2)"
      ]
    },
    {
      "cell_type": "code",
      "execution_count": null,
      "metadata": {
        "id": "9TiUoDeZuChE"
      },
      "outputs": [],
      "source": [
        "!zip -r download.zip download"
      ]
    },
    {
      "cell_type": "code",
      "source": [
        "from google.colab import files\n",
        "\n",
        "files.download(\"download.zip\")"
      ],
      "metadata": {
        "id": "exH1tsa2tjcH"
      },
      "execution_count": null,
      "outputs": []
    }
  ],
  "metadata": {
    "colab": {
      "collapsed_sections": [],
      "name": "mymap_image_download.ipynb",
      "provenance": [],
      "authorship_tag": "ABX9TyPpn6EJXujcOqs1S8axbJc7",
      "include_colab_link": true
    },
    "kernelspec": {
      "display_name": "Python 3",
      "name": "python3"
    },
    "language_info": {
      "name": "python"
    }
  },
  "nbformat": 4,
  "nbformat_minor": 0
}
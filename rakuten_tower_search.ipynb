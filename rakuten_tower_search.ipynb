{
  "nbformat": 4,
  "nbformat_minor": 0,
  "metadata": {
    "colab": {
      "name": "rakuten_tower_search.ipynb",
      "provenance": [],
      "collapsed_sections": [],
      "include_colab_link": true
    },
    "kernelspec": {
      "name": "python3",
      "display_name": "Python 3"
    },
    "language_info": {
      "name": "python"
    }
  },
  "cells": [
    {
      "cell_type": "markdown",
      "metadata": {
        "id": "view-in-github",
        "colab_type": "text"
      },
      "source": [
        "<a href=\"https://colab.research.google.com/github/imabari/rakuten_tools/blob/main/rakuten_tower_search.ipynb\" target=\"_parent\"><img src=\"https://colab.research.google.com/assets/colab-badge.svg\" alt=\"Open In Colab\"/></a>"
      ]
    },
    {
      "cell_type": "markdown",
      "source": [
        "# 実行方法\n",
        "\n",
        "1. 設定に絞り込みたいeNB-LCIDを入力\n",
        "2. 上部メニューより「ランタイム」を選択\n",
        "3. 「すべてのセルを実行」を選択\n",
        "4. アップロードで一時停止しているので参照ボタンを押してTowerCollectorのCSVファイルをアップロード\n",
        "5. 最後にマップが表示される"
      ],
      "metadata": {
        "id": "FcNuq71NQk2M"
      }
    },
    {
      "cell_type": "code",
      "source": [
        "f = lambda enb, lcid: (enb << 8) | lcid"
      ],
      "metadata": {
        "id": "iJhITC3DznRg"
      },
      "execution_count": null,
      "outputs": []
    },
    {
      "cell_type": "markdown",
      "source": [
        "# 設定"
      ],
      "metadata": {
        "id": "xrl2uEZVRRy8"
      }
    },
    {
      "cell_type": "code",
      "source": [
        "# eNB-LCID\n",
        "\n",
        "cells = [f(344574, 1)]\n",
        "\n",
        "# 複数の場合\n",
        "# cells = [f(737430, 10), f(737430, 11), f(737430, 12)]\n",
        "\n",
        "cells"
      ],
      "metadata": {
        "id": "GgkN09PhBStM"
      },
      "execution_count": null,
      "outputs": []
    },
    {
      "cell_type": "markdown",
      "metadata": {
        "id": "skDZdmw5ZW53"
      },
      "source": [
        "# アップロード\n",
        "\n",
        "参照ボタンを押してCSVファイルをアップロード"
      ]
    },
    {
      "cell_type": "code",
      "metadata": {
        "id": "iDkMNsniXZeS"
      },
      "source": [
        "from google.colab import files\n",
        "\n",
        "uploaded = files.upload()\n",
        "\n",
        "for fn in uploaded.keys():\n",
        "    print('User uploaded file \"{name}\" with length {length} bytes'.format(\n",
        "        name=fn, length=len(uploaded[fn])))"
      ],
      "execution_count": null,
      "outputs": []
    },
    {
      "cell_type": "markdown",
      "metadata": {
        "id": "W0lmTElsZbhv"
      },
      "source": [
        "# プログラム"
      ]
    },
    {
      "cell_type": "code",
      "source": [
        "!pip install -U pandas"
      ],
      "metadata": {
        "id": "r3UhrDeqsNL6"
      },
      "execution_count": null,
      "outputs": []
    },
    {
      "cell_type": "code",
      "metadata": {
        "id": "AGc-BzrzOftx"
      },
      "source": [
        "import pandas as pd"
      ],
      "execution_count": null,
      "outputs": []
    },
    {
      "cell_type": "code",
      "metadata": {
        "id": "zGgN3jgycUgA"
      },
      "source": [
        "import folium\n",
        "from folium.features import DivIcon"
      ],
      "execution_count": null,
      "outputs": []
    },
    {
      "cell_type": "code",
      "source": [
        "def make_map(df, zoom=14):\n",
        "\n",
        "    lat = df[\"lat\"].mean()\n",
        "    lon = df[\"lon\"].mean()\n",
        "\n",
        "    map = folium.Map(tiles = None, location=[lat, lon], zoom_start=zoom)\n",
        "\n",
        "    # Googleマップ標準\n",
        "    folium.raster_layers.TileLayer(\n",
        "        \"https://{s}.google.com/vt/lyrs=m&x={x}&y={y}&z={z}\",\n",
        "        subdomains=[\"mt0\", \"mt1\", \"mt2\", \"mt3\"],\n",
        "        name=\"Google Map\",\n",
        "        attr=\"<a href='https://developers.google.com/maps/documentation' target='_blank'>Google Map</a>\",\n",
        "    ).add_to(map)\n",
        "\n",
        "        # Googleマップ航空写真\n",
        "    folium.raster_layers.TileLayer(\n",
        "        \"https://{s}.google.com/vt/lyrs=s,h&x={x}&y={y}&z={z}\",\n",
        "        subdomains=[\"mt0\", \"mt1\", \"mt2\", \"mt3\"],\n",
        "        name=\"Google Map(航空写真)\",\n",
        "        attr=\"<a href='https://developers.google.com/maps/documentation'>© Google</a>\",\n",
        "    ).add_to(map)\n",
        "\n",
        "    fg1 = folium.FeatureGroup(name=\"Good\").add_to(map)\n",
        "    fg2 = folium.FeatureGroup(name=\"Bad\").add_to(map)\n",
        "\n",
        "    for i, r in df.iterrows():\n",
        "\n",
        "        # レイヤーしきい値\n",
        "        condition = r[\"rsrp\"] > -80\n",
        "\n",
        "        folium.CircleMarker(\n",
        "            location=[r.lat, r.lon],\n",
        "            radius=10,\n",
        "            color=r.color,\n",
        "            fill=True,\n",
        "            tooltip=r[\"id\"],\n",
        "        ).add_to(fg1 if condition else fg2)\n",
        "\n",
        "        folium.Marker(\n",
        "            location=[r.lat, r.lon],\n",
        "            icon=DivIcon(\n",
        "                icon_size=(20, 20),\n",
        "                icon_anchor=(10, 10),\n",
        "                html=f'<div style=\"text-align:center; font-size: 12pt; font-weight: bold\">{r[\"ta\"]}</div>',\n",
        "            ),\n",
        "            tooltip=f'{r[\"id\"]}<br />TA:{r[\"ta\"]}<br />RSRP:{r[\"rsrp\"]}',\n",
        "        ).add_to(fg1 if condition else fg2)\n",
        "    \n",
        "    folium.LayerControl().add_to(map)\n",
        "\n",
        "    return map"
      ],
      "metadata": {
        "id": "J1m_Bvc78Avl"
      },
      "execution_count": null,
      "outputs": []
    },
    {
      "cell_type": "markdown",
      "source": [
        "# データラングリング"
      ],
      "metadata": {
        "id": "JjXGqdSQPPyJ"
      }
    },
    {
      "cell_type": "code",
      "metadata": {
        "id": "UCPMWjsXN16J"
      },
      "source": [
        "df0 = pd.read_csv(fn, parse_dates=[\"measured_at\"], dtype={\"ta\": \"Int64\"}).dropna(how=\"all\", axis=1)\n",
        "df0"
      ],
      "execution_count": null,
      "outputs": []
    },
    {
      "cell_type": "code",
      "metadata": {
        "id": "q0JOy5H0AQE6"
      },
      "source": [
        "df0.dtypes"
      ],
      "execution_count": null,
      "outputs": []
    },
    {
      "cell_type": "code",
      "metadata": {
        "id": "MhajM0CkOoZI"
      },
      "source": [
        "# バンド指定\n",
        "df1 = df0.query(\"mcc == 440 & mnc == 11\").copy()\n",
        "df1"
      ],
      "execution_count": null,
      "outputs": []
    },
    {
      "cell_type": "code",
      "metadata": {
        "id": "TWRBeMzWWA5X"
      },
      "source": [
        "# 日時変換\n",
        "df1[\"measured_at\"] = df1[\"measured_at\"].dt.tz_convert(\"Asia/Tokyo\").dt.tz_localize(None)"
      ],
      "execution_count": null,
      "outputs": []
    },
    {
      "cell_type": "code",
      "metadata": {
        "id": "ttrAfVk09cQZ"
      },
      "source": [
        "df1[\"id\"] = df1[\"short_cell_id\"].astype(str) + \"-\" + df1[\"rnc\"].astype(str)"
      ],
      "execution_count": null,
      "outputs": []
    },
    {
      "cell_type": "code",
      "source": [
        "# 色分け（青 > 緑 > 黄 > 橙 > 赤）\n",
        "\n",
        "df1[\"color\"] = pd.cut(\n",
        "    df1[\"rsrp\"],\n",
        "    [-140, -100, -90, -80, -40],\n",
        "    labels=[\"red\", \"orange\", \"yellow\", \"green\"],\n",
        ").astype(str)\n",
        "\n",
        "idx = df1.groupby(\"cell_id\")[\"rsrp\"].transform(max) == df1[\"rsrp\"]\n",
        "df1.loc[idx, \"color\"] = \"blue\""
      ],
      "metadata": {
        "id": "40_kZ0hw0wJt"
      },
      "execution_count": null,
      "outputs": []
    },
    {
      "cell_type": "markdown",
      "metadata": {
        "id": "96ZGFBCXYLwf"
      },
      "source": [
        "# 地図"
      ]
    },
    {
      "cell_type": "markdown",
      "source": [
        "## 全部"
      ],
      "metadata": {
        "id": "404IQrTDHhs7"
      }
    },
    {
      "cell_type": "code",
      "source": [
        "map1 = make_map(df1)\n",
        "map1"
      ],
      "metadata": {
        "id": "BcSbZk9Q_lHs"
      },
      "execution_count": null,
      "outputs": []
    },
    {
      "cell_type": "code",
      "metadata": {
        "id": "Gx_dorcxa61A"
      },
      "source": [
        "map1.save(\"map1.html\")"
      ],
      "execution_count": null,
      "outputs": []
    },
    {
      "cell_type": "markdown",
      "source": [
        "## 絞り込み"
      ],
      "metadata": {
        "id": "5Ef1pWrNHdXz"
      }
    },
    {
      "cell_type": "code",
      "source": [
        "df2 = df1[df1[\"cell_id\"].isin(cells)].copy()\n",
        "df2"
      ],
      "metadata": {
        "id": "GWNgHy7Wv-R2"
      },
      "execution_count": null,
      "outputs": []
    },
    {
      "cell_type": "code",
      "source": [
        "map2 = make_map(df2, 16)\n",
        "map2"
      ],
      "metadata": {
        "id": "FyT69NtGHr70"
      },
      "execution_count": null,
      "outputs": []
    },
    {
      "cell_type": "code",
      "source": [
        "map2.save(\"map2.html\")"
      ],
      "metadata": {
        "id": "KykrzEW6HxYq"
      },
      "execution_count": null,
      "outputs": []
    },
    {
      "cell_type": "markdown",
      "source": [
        "# ダウンロード"
      ],
      "metadata": {
        "id": "phrPRS09TNLT"
      }
    },
    {
      "cell_type": "code",
      "source": [
        "from google.colab import files\n",
        "\n",
        "files.download(\"map2.html\")"
      ],
      "metadata": {
        "id": "8wqc3I_NTK1Q"
      },
      "execution_count": null,
      "outputs": []
    }
  ]
}
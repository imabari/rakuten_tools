{
  "nbformat": 4,
  "nbformat_minor": 0,
  "metadata": {
    "colab": {
      "name": "rakuten_tower_search.ipynb",
      "provenance": [],
      "collapsed_sections": [],
      "toc_visible": true,
      "include_colab_link": true
    },
    "kernelspec": {
      "name": "python3",
      "display_name": "Python 3"
    },
    "language_info": {
      "name": "python"
    }
  },
  "cells": [
    {
      "cell_type": "markdown",
      "metadata": {
        "id": "view-in-github",
        "colab_type": "text"
      },
      "source": [
        "<a href=\"https://colab.research.google.com/github/imabari/rakuten_tools/blob/main/rakuten_tower_search.ipynb\" target=\"_parent\"><img src=\"https://colab.research.google.com/assets/colab-badge.svg\" alt=\"Open In Colab\"/></a>"
      ]
    },
    {
      "cell_type": "markdown",
      "source": [
        "# 実行方法\n",
        "\n",
        "1. 設定に絞り込みたいeNB-LCIDを入力\n",
        "2. 上部メニューより「ランタイム」を選択\n",
        "3. 「すべてのセルを実行」を選択\n",
        "4. アップロードで一時停止しているので参照ボタンを押してTowerCollectorのCSVファイルをアップロード\n",
        "5. 最後にマップが表示される"
      ],
      "metadata": {
        "id": "FcNuq71NQk2M"
      }
    },
    {
      "cell_type": "code",
      "source": [
        "f = lambda enb, lcid: (enb << 8) | lcid"
      ],
      "metadata": {
        "id": "iJhITC3DznRg"
      },
      "execution_count": null,
      "outputs": []
    },
    {
      "cell_type": "markdown",
      "source": [
        "# 設定"
      ],
      "metadata": {
        "id": "xrl2uEZVRRy8"
      }
    },
    {
      "cell_type": "code",
      "source": [
        "# eNB-LCID\n",
        "\n",
        "cells = [f(344574, 1)]\n",
        "\n",
        "# 複数の場合\n",
        "# cells = [f(737430, 10), f(737430, 11), f(737430, 12)]\n",
        "\n",
        "cells"
      ],
      "metadata": {
        "id": "GgkN09PhBStM"
      },
      "execution_count": null,
      "outputs": []
    },
    {
      "cell_type": "markdown",
      "metadata": {
        "id": "skDZdmw5ZW53"
      },
      "source": [
        "# アップロード\n",
        "\n",
        "参照ボタンを押してCSVファイルをアップロード"
      ]
    },
    {
      "cell_type": "code",
      "source": [
        "from google.colab import files"
      ],
      "metadata": {
        "id": "yyV_pHSK-NV-"
      },
      "execution_count": null,
      "outputs": []
    },
    {
      "cell_type": "code",
      "metadata": {
        "id": "iDkMNsniXZeS"
      },
      "source": [
        "uploaded = files.upload()\n",
        "\n",
        "for fn in uploaded.keys():\n",
        "    print('User uploaded file \"{name}\" with length {length} bytes'.format(\n",
        "        name=fn, length=len(uploaded[fn])))"
      ],
      "execution_count": null,
      "outputs": []
    },
    {
      "cell_type": "markdown",
      "metadata": {
        "id": "W0lmTElsZbhv"
      },
      "source": [
        "# プログラム"
      ]
    },
    {
      "cell_type": "code",
      "source": [
        "!pip install -U pandas"
      ],
      "metadata": {
        "id": "r3UhrDeqsNL6"
      },
      "execution_count": null,
      "outputs": []
    },
    {
      "cell_type": "code",
      "metadata": {
        "id": "AGc-BzrzOftx"
      },
      "source": [
        "import pandas as pd\n",
        "pd.options.plotting.backend = \"plotly\""
      ],
      "execution_count": null,
      "outputs": []
    },
    {
      "cell_type": "code",
      "metadata": {
        "id": "zGgN3jgycUgA"
      },
      "source": [
        "import folium\n",
        "from folium.features import DivIcon\n",
        "from folium import plugins"
      ],
      "execution_count": null,
      "outputs": []
    },
    {
      "cell_type": "code",
      "source": [
        "# マップ作成\n",
        "\n",
        "def make_map(df, zoom=14):\n",
        "\n",
        "    lat = df[\"lat\"].mean()\n",
        "    lon = df[\"lon\"].mean()\n",
        "\n",
        "    map = folium.Map(tiles = None, location=[lat, lon], zoom_start=zoom)\n",
        "\n",
        "    # Googleマップ標準\n",
        "    folium.raster_layers.TileLayer(\n",
        "        \"https://{s}.google.com/vt/lyrs=m&x={x}&y={y}&z={z}\",\n",
        "        subdomains=[\"mt0\", \"mt1\", \"mt2\", \"mt3\"],\n",
        "        name=\"Google Map\",\n",
        "        attr=\"<a href='https://developers.google.com/maps/documentation' target='_blank'>Google Map</a>\",\n",
        "    ).add_to(map)\n",
        "\n",
        "    # Googleマップ航空写真\n",
        "    folium.raster_layers.TileLayer(\n",
        "        \"https://{s}.google.com/vt/lyrs=s,h&x={x}&y={y}&z={z}\",\n",
        "        subdomains=[\"mt0\", \"mt1\", \"mt2\", \"mt3\"],\n",
        "        name=\"Google Map(航空写真)\",\n",
        "        attr=\"<a href='https://developers.google.com/maps/documentation'>© Google</a>\",\n",
        "    ).add_to(map)\n",
        "\n",
        "    fg1 = folium.FeatureGroup(name=\"Maker\").add_to(map)\n",
        "    fg2 = folium.FeatureGroup(name=\"TA\").add_to(map)\n",
        "    fg3 = folium.FeatureGroup(name=\"RSRP\", show=False).add_to(map)\n",
        "\n",
        "    for i, r in df.iterrows():\n",
        "\n",
        "        folium.CircleMarker(\n",
        "            location=[r.lat, r.lon],\n",
        "            radius=10,\n",
        "            color=r.color,\n",
        "            fill=True,\n",
        "            tooltip=r[\"id\"],\n",
        "        ).add_to(fg1)\n",
        "\n",
        "        folium.Marker(\n",
        "            location=[r.lat, r.lon],\n",
        "            icon=DivIcon(\n",
        "                icon_size=(20, 20),\n",
        "                icon_anchor=(10, 10),\n",
        "                html=f'<div style=\"text-align:center; font-size: 12pt; font-weight: bold\">{r[\"ta\"]}</div>',\n",
        "            ),\n",
        "            tooltip=f'{r[\"measured_at\"]}<br />eNB-LCID:{r[\"id\"]}<br />PCI:{r[\"psc\"]}<br />TA:{r[\"ta\"]}<br />RSRP:{r[\"rsrp\"]}',\n",
        "        ).add_to(fg2)\n",
        "    \n",
        "        folium.Marker(\n",
        "            location=[r.lat, r.lon],\n",
        "            icon=DivIcon(\n",
        "                icon_size=(30, 20),\n",
        "                icon_anchor=(15, -10),\n",
        "                html=f'<div style=\"text-align:center; font-size: 9pt; font-weight: bold\">{r[\"rsrp\"]}</div>',\n",
        "            ),\n",
        "            tooltip=f'{r[\"measured_at\"]}<br />eNB-LCID:{r[\"id\"]}<br />PCI:{r[\"psc\"]}<br />TA:{r[\"ta\"]}<br />RSRP:{r[\"rsrp\"]}',\n",
        "        ).add_to(fg3)\n",
        "\n",
        "    folium.LayerControl().add_to(map)\n",
        "\n",
        "    # DRAW\n",
        "    folium.plugins.Draw(\n",
        "        draw_options={\"polygon\": False, \"rectangle\": False, \"circlemarker\": False}\n",
        "    ).add_to(map)\n",
        "\n",
        "    return map"
      ],
      "metadata": {
        "id": "J1m_Bvc78Avl"
      },
      "execution_count": null,
      "outputs": []
    },
    {
      "cell_type": "code",
      "source": [
        "# ヒートマップ作成\n",
        "\n",
        "def make_heatmap(df, zoom=14):\n",
        "\n",
        "    lat = df[\"lat\"].mean()\n",
        "    lon = df[\"lon\"].mean()\n",
        "\n",
        "    map = folium.Map(tiles = None, location=[lat, lon], zoom_start=zoom)\n",
        "\n",
        "    # Googleマップ標準\n",
        "    folium.raster_layers.TileLayer(\n",
        "        \"https://{s}.google.com/vt/lyrs=m&x={x}&y={y}&z={z}\",\n",
        "        subdomains=[\"mt0\", \"mt1\", \"mt2\", \"mt3\"],\n",
        "        name=\"Google Map\",\n",
        "        attr=\"<a href='https://developers.google.com/maps/documentation' target='_blank'>©Google Map</a>\",\n",
        "    ).add_to(map)\n",
        "\n",
        "    # Googleマップ航空写真\n",
        "    folium.raster_layers.TileLayer(\n",
        "        \"https://{s}.google.com/vt/lyrs=s,h&x={x}&y={y}&z={z}\",\n",
        "        subdomains=[\"mt0\", \"mt1\", \"mt2\", \"mt3\"],\n",
        "        name=\"Google Map(航空写真)\",\n",
        "        attr=\"<a href='https://developers.google.com/maps/documentation' target='_blank'>© Google</a>\",\n",
        "    ).add_to(map)\n",
        "\n",
        "    folium.plugins.HeatMap(\n",
        "        data = df.values,\n",
        "        radius=10,    \n",
        "    ).add_to(map)\n",
        "\n",
        "    return map"
      ],
      "metadata": {
        "id": "9X3_TPKsLLu3"
      },
      "execution_count": null,
      "outputs": []
    },
    {
      "cell_type": "markdown",
      "source": [
        "# データラングリング"
      ],
      "metadata": {
        "id": "JjXGqdSQPPyJ"
      }
    },
    {
      "cell_type": "code",
      "metadata": {
        "id": "UCPMWjsXN16J"
      },
      "source": [
        "df0 = pd.read_csv(fn, parse_dates=[\"measured_at\"]).dropna(how=\"all\", axis=1)\n",
        "df0"
      ],
      "execution_count": null,
      "outputs": []
    },
    {
      "cell_type": "code",
      "metadata": {
        "id": "q0JOy5H0AQE6"
      },
      "source": [
        "df0.dtypes"
      ],
      "execution_count": null,
      "outputs": []
    },
    {
      "cell_type": "code",
      "metadata": {
        "id": "MhajM0CkOoZI"
      },
      "source": [
        "# バンド指定\n",
        "df1 = df0.query(\"mcc == 440 & mnc == 11 & net_type == 'LTE'\").copy()\n",
        "df1"
      ],
      "execution_count": null,
      "outputs": []
    },
    {
      "cell_type": "code",
      "metadata": {
        "id": "TWRBeMzWWA5X"
      },
      "source": [
        "# 日時変換\n",
        "df1[\"measured_at\"] = df1[\"measured_at\"].dt.tz_convert(\"Asia/Tokyo\").dt.tz_localize(None)"
      ],
      "execution_count": null,
      "outputs": []
    },
    {
      "cell_type": "code",
      "metadata": {
        "id": "ttrAfVk09cQZ"
      },
      "source": [
        "df1[\"id\"] = df1[\"short_cell_id\"].astype(str) + \"-\" + df1[\"rnc\"].astype(str)"
      ],
      "execution_count": null,
      "outputs": []
    },
    {
      "cell_type": "code",
      "source": [
        "df1[\"ta\"] = df1[\"ta\"].astype(\"Int64\")\n",
        "df1[\"rsrp\"] = df1[\"rsrp\"].astype(int)"
      ],
      "metadata": {
        "id": "wI3inkmpW5xb"
      },
      "execution_count": null,
      "outputs": []
    },
    {
      "cell_type": "code",
      "source": [
        "# 色分け（青 > 緑 > 黄 > 橙 > 赤）\n",
        "\n",
        "df1[\"color\"] = pd.cut(\n",
        "    df1[\"rsrp\"],\n",
        "    [-140, -100, -90, -80, -40],\n",
        "    labels=[\"red\", \"orange\", \"yellow\", \"green\"],\n",
        ").astype(str)\n",
        "\n",
        "idx = df1.groupby(\"cell_id\")[\"rsrp\"].transform(max) == df1[\"rsrp\"]\n",
        "df1.loc[idx, \"color\"] = \"blue\""
      ],
      "metadata": {
        "id": "40_kZ0hw0wJt"
      },
      "execution_count": null,
      "outputs": []
    },
    {
      "cell_type": "markdown",
      "metadata": {
        "id": "96ZGFBCXYLwf"
      },
      "source": [
        "# 地図"
      ]
    },
    {
      "cell_type": "markdown",
      "source": [
        "## データ全部"
      ],
      "metadata": {
        "id": "404IQrTDHhs7"
      }
    },
    {
      "cell_type": "code",
      "source": [
        "# 地図表示\n",
        "map1 = make_map(df1)\n",
        "map1"
      ],
      "metadata": {
        "id": "BcSbZk9Q_lHs"
      },
      "execution_count": null,
      "outputs": []
    },
    {
      "cell_type": "code",
      "metadata": {
        "id": "Gx_dorcxa61A"
      },
      "source": [
        "map1.save(\"map1.html\")"
      ],
      "execution_count": null,
      "outputs": []
    },
    {
      "cell_type": "markdown",
      "source": [
        "## 絞り込み"
      ],
      "metadata": {
        "id": "5Ef1pWrNHdXz"
      }
    },
    {
      "cell_type": "code",
      "source": [
        "# 絞り込み\n",
        "df2 = df1[df1[\"cell_id\"].isin(cells)].copy()\n",
        "\n",
        "# データ確認\n",
        "df2[[\"measured_at\", \"id\", \"rsrp\", \"ta\", \"lat\", \"lon\"]]"
      ],
      "metadata": {
        "id": "GWNgHy7Wv-R2"
      },
      "execution_count": null,
      "outputs": []
    },
    {
      "cell_type": "code",
      "source": [
        "# 地図表示\n",
        "map2 = make_map(df2, 16)\n",
        "map2"
      ],
      "metadata": {
        "id": "FyT69NtGHr70"
      },
      "execution_count": null,
      "outputs": []
    },
    {
      "cell_type": "code",
      "source": [
        "map2.save(\"map2.html\")"
      ],
      "metadata": {
        "id": "KykrzEW6HxYq"
      },
      "execution_count": null,
      "outputs": []
    },
    {
      "cell_type": "markdown",
      "source": [
        "## ヒートマップ"
      ],
      "metadata": {
        "id": "l7l-AhzlLD3S"
      }
    },
    {
      "cell_type": "code",
      "source": [
        "# RSRPのしきい値\n",
        "N = 100"
      ],
      "metadata": {
        "id": "-e-k5kZtjf3X"
      },
      "execution_count": null,
      "outputs": []
    },
    {
      "cell_type": "code",
      "source": [
        "df3 = df2.copy()"
      ],
      "metadata": {
        "id": "wdM0gE-NLL-U"
      },
      "execution_count": null,
      "outputs": []
    },
    {
      "cell_type": "code",
      "source": [
        "# しきい値を加算\n",
        "df3[\"weight\"] = df3[\"rsrp\"] + N"
      ],
      "metadata": {
        "id": "l7QMx41fLMBM"
      },
      "execution_count": null,
      "outputs": []
    },
    {
      "cell_type": "code",
      "source": [
        "df4 = df3.reindex(columns=[\"lat\", \"lon\", \"weight\"]).copy()"
      ],
      "metadata": {
        "id": "U7z__mQkLMEI"
      },
      "execution_count": null,
      "outputs": []
    },
    {
      "cell_type": "code",
      "source": [
        "# 0以下は除外のため確認\n",
        "df4[\"weight\"].value_counts().plot.bar()"
      ],
      "metadata": {
        "id": "j89Xm-EmMC8c"
      },
      "execution_count": null,
      "outputs": []
    },
    {
      "cell_type": "code",
      "source": [
        "# 地図表示\n",
        "map3 = make_heatmap(df4[df4[\"weight\"] > 0])\n",
        "map3"
      ],
      "metadata": {
        "id": "UvQfOuGfLMG_"
      },
      "execution_count": null,
      "outputs": []
    },
    {
      "cell_type": "code",
      "source": [
        "map3.save(\"map3.html\")"
      ],
      "metadata": {
        "id": "_ueYb3Mg-e2y"
      },
      "execution_count": null,
      "outputs": []
    },
    {
      "cell_type": "markdown",
      "source": [
        "## ダウンロード"
      ],
      "metadata": {
        "id": "phrPRS09TNLT"
      }
    },
    {
      "cell_type": "code",
      "source": [
        "# files.download(\"map1.html\")\n",
        "files.download(\"map2.html\")\n",
        "# files.download(\"map3.html\")"
      ],
      "metadata": {
        "id": "8wqc3I_NTK1Q"
      },
      "execution_count": null,
      "outputs": []
    },
    {
      "cell_type": "markdown",
      "source": [
        "## 時間帯指定"
      ],
      "metadata": {
        "id": "x2JBf2YTGrmu"
      }
    },
    {
      "cell_type": "code",
      "source": [
        "# RSRPの時系列確認\n",
        "df2.plot(x=\"measured_at\", y=\"rsrp\")"
      ],
      "metadata": {
        "id": "hNOMGUMj4IjG"
      },
      "execution_count": null,
      "outputs": []
    },
    {
      "cell_type": "code",
      "source": [
        "# TAの時系列確認\n",
        "df2.dropna(subset=[\"ta\"]).plot(x=\"measured_at\", y=\"ta\")"
      ],
      "metadata": {
        "id": "lB5W-V4N7cTe"
      },
      "execution_count": null,
      "outputs": []
    },
    {
      "cell_type": "code",
      "source": [
        "# 時間帯指定\n",
        "TM_Start = \"16:39:00\"\n",
        "TM_End = \"16:41:00\""
      ],
      "metadata": {
        "id": "1BY3g4GWjb4D"
      },
      "execution_count": null,
      "outputs": []
    },
    {
      "cell_type": "code",
      "source": [
        "df5 = df2.set_index(\"measured_at\").between_time(TM_Start, TM_End).reset_index()\n",
        "df5"
      ],
      "metadata": {
        "id": "qoriETmTF6CM"
      },
      "execution_count": null,
      "outputs": []
    },
    {
      "cell_type": "code",
      "source": [
        "make_map(df5, 16)"
      ],
      "metadata": {
        "id": "hQYsa1xBFXA7"
      },
      "execution_count": null,
      "outputs": []
    }
  ]
}
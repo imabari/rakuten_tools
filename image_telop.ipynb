{
  "nbformat": 4,
  "nbformat_minor": 0,
  "metadata": {
    "colab": {
      "name": "image_telop.ipynb",
      "provenance": [],
      "collapsed_sections": [],
      "authorship_tag": "ABX9TyO60w9bJJpTu/o+YPwa7VfC",
      "include_colab_link": true
    },
    "kernelspec": {
      "display_name": "Python 3",
      "name": "python3"
    },
    "language_info": {
      "name": "python"
    }
  },
  "cells": [
    {
      "cell_type": "markdown",
      "metadata": {
        "id": "view-in-github",
        "colab_type": "text"
      },
      "source": [
        "<a href=\"https://colab.research.google.com/github/imabari/rakuten_tools/blob/main/image_telop.ipynb\" target=\"_parent\"><img src=\"https://colab.research.google.com/assets/colab-badge.svg\" alt=\"Open In Colab\"/></a>"
      ]
    },
    {
      "cell_type": "code",
      "metadata": {
        "id": "4474A2SDEpYf"
      },
      "source": [
        "!mkdir image"
      ],
      "execution_count": 1,
      "outputs": []
    },
    {
      "cell_type": "markdown",
      "metadata": {
        "id": "05JCt8wqip3t"
      },
      "source": [
        "1. 上を実行、imageフォルダを作成\n",
        "2. 更新ボタンをクリックしてimageフォルダを右クリックアップロードでjpegファイルを選択\n",
        "3. メッセージを入力\n",
        "4. ランタイムから「以降のプログラムを実行」でダウンロード"
      ]
    },
    {
      "cell_type": "markdown",
      "metadata": {
        "id": "9vxEmkmDBvI5"
      },
      "source": [
        "# メッセージ入力"
      ]
    },
    {
      "cell_type": "code",
      "metadata": {
        "id": "l6WyrbJzwLEl"
      },
      "source": [
        "message = \"2021/11/28 @imabarizine\""
      ],
      "execution_count": 2,
      "outputs": []
    },
    {
      "cell_type": "markdown",
      "metadata": {
        "id": "S10dpK7lBwev"
      },
      "source": [
        "# プログラム"
      ]
    },
    {
      "cell_type": "code",
      "metadata": {
        "colab": {
          "base_uri": "https://localhost:8080/"
        },
        "id": "oWyaVZ8VARsC",
        "outputId": "05b7053a-b56c-4cdb-8562-d84008704659"
      },
      "source": [
        "!apt install -y fonts-ipafont\n",
        "!fc-cache -fv"
      ],
      "execution_count": 3,
      "outputs": [
        {
          "output_type": "stream",
          "name": "stdout",
          "text": [
            "Reading package lists... Done\n",
            "Building dependency tree       \n",
            "Reading state information... Done\n",
            "The following additional packages will be installed:\n",
            "  fonts-ipafont-gothic fonts-ipafont-mincho\n",
            "The following NEW packages will be installed:\n",
            "  fonts-ipafont fonts-ipafont-gothic fonts-ipafont-mincho\n",
            "0 upgraded, 3 newly installed, 0 to remove and 37 not upgraded.\n",
            "Need to get 8,260 kB of archives.\n",
            "After this operation, 28.7 MB of additional disk space will be used.\n",
            "Get:1 http://archive.ubuntu.com/ubuntu bionic/universe amd64 fonts-ipafont-gothic all 00303-18ubuntu1 [3,526 kB]\n",
            "Get:2 http://archive.ubuntu.com/ubuntu bionic/universe amd64 fonts-ipafont-mincho all 00303-18ubuntu1 [4,725 kB]\n",
            "Get:3 http://archive.ubuntu.com/ubuntu bionic/universe amd64 fonts-ipafont all 00303-18ubuntu1 [8,972 B]\n",
            "Fetched 8,260 kB in 2s (4,667 kB/s)\n",
            "Selecting previously unselected package fonts-ipafont-gothic.\n",
            "(Reading database ... 155222 files and directories currently installed.)\n",
            "Preparing to unpack .../fonts-ipafont-gothic_00303-18ubuntu1_all.deb ...\n",
            "Unpacking fonts-ipafont-gothic (00303-18ubuntu1) ...\n",
            "Selecting previously unselected package fonts-ipafont-mincho.\n",
            "Preparing to unpack .../fonts-ipafont-mincho_00303-18ubuntu1_all.deb ...\n",
            "Unpacking fonts-ipafont-mincho (00303-18ubuntu1) ...\n",
            "Selecting previously unselected package fonts-ipafont.\n",
            "Preparing to unpack .../fonts-ipafont_00303-18ubuntu1_all.deb ...\n",
            "Unpacking fonts-ipafont (00303-18ubuntu1) ...\n",
            "Setting up fonts-ipafont-gothic (00303-18ubuntu1) ...\n",
            "update-alternatives: using /usr/share/fonts/opentype/ipafont-gothic/ipag.ttf to provide /usr/share/fonts/truetype/fonts-japanese-gothic.ttf (fonts-japanese-gothic.ttf) in auto mode\n",
            "Setting up fonts-ipafont-mincho (00303-18ubuntu1) ...\n",
            "update-alternatives: using /usr/share/fonts/opentype/ipafont-mincho/ipam.ttf to provide /usr/share/fonts/truetype/fonts-japanese-mincho.ttf (fonts-japanese-mincho.ttf) in auto mode\n",
            "Setting up fonts-ipafont (00303-18ubuntu1) ...\n",
            "Processing triggers for fontconfig (2.12.6-0ubuntu2) ...\n",
            "/usr/share/fonts: caching, new cache contents: 0 fonts, 2 dirs\n",
            "/usr/share/fonts/opentype: caching, new cache contents: 0 fonts, 2 dirs\n",
            "/usr/share/fonts/opentype/ipafont-gothic: caching, new cache contents: 2 fonts, 0 dirs\n",
            "/usr/share/fonts/opentype/ipafont-mincho: caching, new cache contents: 2 fonts, 0 dirs\n",
            "/usr/share/fonts/truetype: caching, new cache contents: 2 fonts, 2 dirs\n",
            "/usr/share/fonts/truetype/humor-sans: caching, new cache contents: 1 fonts, 0 dirs\n",
            "/usr/share/fonts/truetype/liberation: caching, new cache contents: 16 fonts, 0 dirs\n",
            "/usr/local/share/fonts: caching, new cache contents: 0 fonts, 0 dirs\n",
            "/root/.local/share/fonts: skipping, no such directory\n",
            "/root/.fonts: skipping, no such directory\n",
            "/var/cache/fontconfig: cleaning cache directory\n",
            "/root/.cache/fontconfig: not cleaning non-existent cache directory\n",
            "/root/.fontconfig: not cleaning non-existent cache directory\n",
            "fc-cache: succeeded\n"
          ]
        }
      ]
    },
    {
      "cell_type": "code",
      "metadata": {
        "id": "hrbc4KT1AaFx"
      },
      "source": [
        "# !fc-list | grep -i ipa\n",
        "font_path = \"/usr/share/fonts/opentype/ipafont-gothic/ipagp.ttf\""
      ],
      "execution_count": 4,
      "outputs": []
    },
    {
      "cell_type": "code",
      "metadata": {
        "id": "GWLmbi5HUua0"
      },
      "source": [
        "from PIL import Image, ImageFont, ImageDraw\n",
        "import cv2\n",
        "import numpy as np"
      ],
      "execution_count": 5,
      "outputs": []
    },
    {
      "cell_type": "code",
      "metadata": {
        "id": "fVImY0ufxDf-"
      },
      "source": [
        "import pathlib"
      ],
      "execution_count": 6,
      "outputs": []
    },
    {
      "cell_type": "code",
      "metadata": {
        "id": "uTQr4IpSDcYO"
      },
      "source": [
        "from google.colab import files"
      ],
      "execution_count": 7,
      "outputs": []
    },
    {
      "cell_type": "code",
      "metadata": {
        "id": "hlDw8sx4bLEk"
      },
      "source": [
        "# 画像に文字を入れる関数\n",
        "def telop(src, message, font_size=160):\n",
        "\n",
        "    width = src.shape[1]\n",
        "    height = src.shape[0]\n",
        "\n",
        "    # 画像サイズの1/32\n",
        "\n",
        "    margin = width >> 5\n",
        "    size = height >> 5\n",
        "\n",
        "    img = Image.fromarray(src)\n",
        "    draw = ImageDraw.Draw(img)\n",
        "\n",
        "    n = font_size\n",
        "\n",
        "    while(n > 10):\n",
        "\n",
        "        font = ImageFont.truetype(font_path, n)\n",
        "        w, h = draw.textsize(message, font)\n",
        "\n",
        "        if h < size:\n",
        "            break\n",
        "\n",
        "        n -= 1\n",
        "    \n",
        "    position = (int(width - w - margin), int(height - (height >> 4)))\n",
        "\n",
        "    # BGR\n",
        "    draw.text(\n",
        "        position, message, font=font, fill=\"#00f\", stroke_width=6, stroke_fill=\"#fff\"\n",
        "    )\n",
        "\n",
        "    # PIL型の画像をcv2(NumPy)型に変換\n",
        "    img = np.array(img)\n",
        "\n",
        "    return img"
      ],
      "execution_count": 8,
      "outputs": []
    },
    {
      "cell_type": "code",
      "metadata": {
        "id": "IuUGLU7CxI5u"
      },
      "source": [
        "p = pathlib.Path(\"image\")"
      ],
      "execution_count": 9,
      "outputs": []
    },
    {
      "cell_type": "code",
      "metadata": {
        "id": "qkTb4pTy05LW"
      },
      "source": [
        "pathlib.Path(\"output\").mkdir(exist_ok=True)"
      ],
      "execution_count": 10,
      "outputs": []
    },
    {
      "cell_type": "code",
      "metadata": {
        "id": "7ciHqfrMUODN"
      },
      "source": [
        "for fr in p.glob(\"*.jpg\"):\n",
        " \n",
        "    src = cv2.imread(str(fr), 1)\n",
        "\n",
        "    img = telop(src, message)\n",
        "\n",
        "    fw = pathlib.Path(str(fr).replace(\"image\", \"output\"))\n",
        "\n",
        "    cv2.imwrite(str(fw), img)"
      ],
      "execution_count": 11,
      "outputs": []
    },
    {
      "cell_type": "markdown",
      "metadata": {
        "id": "Mg2WFtSZDOPB"
      },
      "source": [
        "# ファイル圧縮"
      ]
    },
    {
      "cell_type": "code",
      "metadata": {
        "colab": {
          "base_uri": "https://localhost:8080/"
        },
        "id": "cSi8JI5NDOqX",
        "outputId": "cfa4d60f-cfaa-4bbc-b672-6a3efd622a60"
      },
      "source": [
        "!zip -r output.zip output"
      ],
      "execution_count": 12,
      "outputs": [
        {
          "output_type": "stream",
          "name": "stdout",
          "text": [
            "  adding: output/ (stored 0%)\n",
            "  adding: output/FFM6kzxaAAEdXp8.jpg (deflated 4%)\n",
            "  adding: output/FFM6jmcaQAA2f-8.jpg (deflated 6%)\n",
            "  adding: output/FFM6haGaAAUbucL.jpg (deflated 5%)\n",
            "  adding: output/FFM6mfgaQAEPcdK.jpg (deflated 5%)\n",
            "  adding: output/FFM4Ea6acAAY3fa.jpg (deflated 5%)\n"
          ]
        }
      ]
    },
    {
      "cell_type": "code",
      "metadata": {
        "colab": {
          "base_uri": "https://localhost:8080/",
          "height": 17
        },
        "id": "9DGU0XWJDp8Q",
        "outputId": "332929eb-aad6-4f09-ea6b-7418828b154c"
      },
      "source": [
        "files.download(\"output.zip\")"
      ],
      "execution_count": 13,
      "outputs": [
        {
          "output_type": "display_data",
          "data": {
            "application/javascript": [
              "\n",
              "    async function download(id, filename, size) {\n",
              "      if (!google.colab.kernel.accessAllowed) {\n",
              "        return;\n",
              "      }\n",
              "      const div = document.createElement('div');\n",
              "      const label = document.createElement('label');\n",
              "      label.textContent = `Downloading \"${filename}\": `;\n",
              "      div.appendChild(label);\n",
              "      const progress = document.createElement('progress');\n",
              "      progress.max = size;\n",
              "      div.appendChild(progress);\n",
              "      document.body.appendChild(div);\n",
              "\n",
              "      const buffers = [];\n",
              "      let downloaded = 0;\n",
              "\n",
              "      const channel = await google.colab.kernel.comms.open(id);\n",
              "      // Send a message to notify the kernel that we're ready.\n",
              "      channel.send({})\n",
              "\n",
              "      for await (const message of channel.messages) {\n",
              "        // Send a message to notify the kernel that we're ready.\n",
              "        channel.send({})\n",
              "        if (message.buffers) {\n",
              "          for (const buffer of message.buffers) {\n",
              "            buffers.push(buffer);\n",
              "            downloaded += buffer.byteLength;\n",
              "            progress.value = downloaded;\n",
              "          }\n",
              "        }\n",
              "      }\n",
              "      const blob = new Blob(buffers, {type: 'application/binary'});\n",
              "      const a = document.createElement('a');\n",
              "      a.href = window.URL.createObjectURL(blob);\n",
              "      a.download = filename;\n",
              "      div.appendChild(a);\n",
              "      a.click();\n",
              "      div.remove();\n",
              "    }\n",
              "  "
            ],
            "text/plain": [
              "<IPython.core.display.Javascript object>"
            ]
          },
          "metadata": {}
        },
        {
          "output_type": "display_data",
          "data": {
            "application/javascript": [
              "download(\"download_820e0731-39ca-42dc-8ad4-f4aa625a7cb3\", \"output.zip\", 14727909)"
            ],
            "text/plain": [
              "<IPython.core.display.Javascript object>"
            ]
          },
          "metadata": {}
        }
      ]
    },
    {
      "cell_type": "code",
      "metadata": {
        "id": "HEywo-ndVFXw"
      },
      "source": [
        "# from google.colab.patches import cv2_imshow"
      ],
      "execution_count": 14,
      "outputs": []
    },
    {
      "cell_type": "code",
      "metadata": {
        "id": "7_dmcQR0VAsf"
      },
      "source": [
        "# cv2_imshow(img)"
      ],
      "execution_count": 15,
      "outputs": []
    }
  ]
}